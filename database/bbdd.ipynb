{
 "cells": [
  {
   "cell_type": "code",
   "execution_count": 1,
   "metadata": {},
   "outputs": [
    {
     "data": {
      "text/plain": [
       "True"
      ]
     },
     "execution_count": 1,
     "metadata": {},
     "output_type": "execute_result"
    }
   ],
   "source": [
    "import pymysql\n",
    "import pandas as pd\n",
    "import os\n",
    "from dotenv import load_dotenv\n",
    "load_dotenv()"
   ]
  },
  {
   "cell_type": "code",
   "execution_count": 3,
   "metadata": {},
   "outputs": [],
   "source": [
    "username = os.getenv(\"BBDD_USERNAME\")\n",
    "password = os.getenv(\"BBDD_PASSWORD\")\n",
    "host = os.getenv(\"BBDD_HOST\")\n",
    "port = os.getenv(\"BBDD_port\")"
   ]
  },
  {
   "cell_type": "code",
   "execution_count": 4,
   "metadata": {},
   "outputs": [
    {
     "data": {
      "text/plain": [
       "0"
      ]
     },
     "execution_count": 4,
     "metadata": {},
     "output_type": "execute_result"
    }
   ],
   "source": [
    "db = pymysql.connect(host = host,\n",
    "                     user = username,\n",
    "                     password = password,\n",
    "                     cursorclass = pymysql.cursors.DictCursor\n",
    ")\n",
    "\n",
    "cursor = db.cursor()\n",
    "use_db = '''USE users_registrados'''\n",
    "cursor.execute(use_db)"
   ]
  },
  {
   "cell_type": "code",
   "execution_count": 5,
   "metadata": {},
   "outputs": [
    {
     "data": {
      "text/plain": [
       "[{'Database': 'consultas'},\n",
       " {'Database': 'information_schema'},\n",
       " {'Database': 'mysql'},\n",
       " {'Database': 'performance_schema'},\n",
       " {'Database': 'sys'},\n",
       " {'Database': 'users_registrados'}]"
      ]
     },
     "execution_count": 5,
     "metadata": {},
     "output_type": "execute_result"
    }
   ],
   "source": [
    "cursor.execute('SHOW DATABASES')\n",
    "cursor.fetchall()"
   ]
  },
  {
   "cell_type": "code",
   "execution_count": 5,
   "metadata": {},
   "outputs": [
    {
     "data": {
      "text/plain": [
       "7"
      ]
     },
     "execution_count": 5,
     "metadata": {},
     "output_type": "execute_result"
    }
   ],
   "source": [
    "cursor.execute(\"DESCRIBE Users;\")"
   ]
  },
  {
   "cell_type": "code",
   "execution_count": 6,
   "metadata": {},
   "outputs": [
    {
     "data": {
      "text/plain": [
       "3"
      ]
     },
     "execution_count": 6,
     "metadata": {},
     "output_type": "execute_result"
    }
   ],
   "source": [
    "cursor.execute(\"SHOW PROCESSLIST;\")"
   ]
  },
  {
   "cell_type": "code",
   "execution_count": 44,
   "metadata": {},
   "outputs": [
    {
     "name": "stdout",
     "output_type": "stream",
     "text": [
      "Procesos activos (4 encontrados):\n",
      "{'Id': 5, 'User': 'event_scheduler', 'Host': 'localhost', 'db': None, 'Command': 'Daemon', 'Time': 92196, 'State': 'Waiting on empty queue', 'Info': None}\n",
      "{'Id': 7, 'User': 'rdsadmin', 'Host': 'localhost', 'db': 'mysql', 'Command': 'Sleep', 'Time': 8, 'State': '', 'Info': None}\n",
      "{'Id': 403, 'User': 'admin', 'Host': '81.61.238.244:64114', 'db': None, 'Command': 'Sleep', 'Time': 135, 'State': '', 'Info': None}\n",
      "{'Id': 407, 'User': 'admin', 'Host': '81.61.238.244:64136', 'db': 'users_registrados', 'Command': 'Query', 'Time': 0, 'State': 'init', 'Info': 'SHOW PROCESSLIST'}\n"
     ]
    }
   ],
   "source": [
    "cursor.execute(\"SHOW PROCESSLIST;\")\n",
    "processes = cursor.fetchall()\n",
    "print(f\"Procesos activos ({len(processes)} encontrados):\")\n",
    "for process in processes:\n",
    "    print(process)"
   ]
  },
  {
   "cell_type": "code",
   "execution_count": 105,
   "metadata": {},
   "outputs": [
    {
     "name": "stdout",
     "output_type": "stream",
     "text": [
      "Estructura de la tabla Users:\n",
      "{'Field': 'id', 'Type': 'int', 'Null': 'NO', 'Key': 'PRI', 'Default': None, 'Extra': 'auto_increment'}\n",
      "{'Field': 'pregunta', 'Type': 'text', 'Null': 'YES', 'Key': '', 'Default': None, 'Extra': ''}\n",
      "{'Field': 'respuesta', 'Type': 'text', 'Null': 'YES', 'Key': '', 'Default': None, 'Extra': ''}\n",
      "{'Field': 'created_at', 'Type': 'timestamp', 'Null': 'YES', 'Key': '', 'Default': 'CURRENT_TIMESTAMP', 'Extra': 'DEFAULT_GENERATED'}\n"
     ]
    }
   ],
   "source": [
    "try:\n",
    "    with db.cursor() as cursor:\n",
    "        cursor.execute(\"DESCRIBE consultas;\")\n",
    "        result = cursor.fetchall()  # Recupera todas las filas\n",
    "        print(\"Estructura de la tabla Users:\")\n",
    "        for row in result:\n",
    "            print(row)\n",
    "except pymysql.MySQLError as e:\n",
    "    print(f\"Error de base de datos: {str(e)}\")"
   ]
  },
  {
   "cell_type": "code",
   "execution_count": 48,
   "metadata": {},
   "outputs": [],
   "source": [
    "query = \"INSERT INTO Verticales (vertical) VALUES (%s)\"\n",
    "valores = [(\"Data Science\",), (\"Full Stack\",), (\"Ciberseguridad\",)]"
   ]
  },
  {
   "cell_type": "code",
   "execution_count": 54,
   "metadata": {},
   "outputs": [
    {
     "data": {
      "text/plain": [
       "3"
      ]
     },
     "execution_count": 54,
     "metadata": {},
     "output_type": "execute_result"
    }
   ],
   "source": [
    "cursor.executemany(query, valores)"
   ]
  },
  {
   "cell_type": "code",
   "execution_count": null,
   "metadata": {},
   "outputs": [
    {
     "name": "stdout",
     "output_type": "stream",
     "text": [
      "Datos insertados correctamente.\n"
     ]
    }
   ],
   "source": [
    "try:\n",
    "    with db.cursor() as cursor:\n",
    "        # Consulta para insertar los datos\n",
    "        insert_query = \"\"\"\n",
    "        INSERT INTO Users (ID_Vertical, Nombre, Apellidos, Fecha_nacimiento, nombre_usuario, password)\n",
    "        VALUES\n",
    "        (1, 'Pedro', 'Garcia', '1985-01-01', 'invitado', 'invitado');\n",
    "\n",
    "        \"\"\"\n",
    "        \n",
    "        # Ejecutar la consulta\n",
    "        cursor.execute(insert_query)\n",
    "        db.commit()  # Confirmar la inserción\n",
    "        print(\"Datos insertados correctamente.\")\n",
    "        \n",
    "except pymysql.MySQLError as err:\n",
    "    print(f\"Error al insertar los datos: {err}\")"
   ]
  },
  {
   "cell_type": "code",
   "execution_count": 56,
   "metadata": {},
   "outputs": [
    {
     "name": "stdout",
     "output_type": "stream",
     "text": [
      "Columnas en la tabla vertical: ['ID_User', 'ID_Vertical', 'Nombre', 'Apellidos', 'Fecha_nacimiento', 'nombre_usuario', 'password']\n"
     ]
    }
   ],
   "source": [
    "try:\n",
    "    with db.cursor() as cursor:\n",
    "        # Consulta para obtener las columnas de la tabla 'Users'\n",
    "        query = \"\"\"\n",
    "        SELECT COLUMN_NAME \n",
    "        FROM INFORMATION_SCHEMA.COLUMNS \n",
    "        WHERE TABLE_SCHEMA = 'users_registrados' AND TABLE_NAME = 'Users';\n",
    "        \"\"\"\n",
    "        \n",
    "        # Ejecutar la consulta\n",
    "        cursor.execute(query)\n",
    "        columns = cursor.fetchall()\n",
    "\n",
    "        # Extraer solo los nombres de columna\n",
    "        column_names = [col[\"COLUMN_NAME\"] for col in columns]\n",
    "        print(\"Columnas en la tabla vertical:\", column_names)\n",
    "\n",
    "except pymysql.MySQLError as err:\n",
    "    print(f\"Error al consultar las columnas: {err}\")"
   ]
  },
  {
   "cell_type": "code",
   "execution_count": 7,
   "metadata": {},
   "outputs": [
    {
     "data": {
      "text/plain": [
       "[{'ID_Recom': 1,\n",
       "  'ID_User': 5,\n",
       "  'Recomendaciones': '\"Aqu\\\\u00ed tienes una lista de tres materiales de estudio personalizados sobre \\\\u00e1rboles de decisi\\\\u00f3n y Random Forest:\\\\n\\\\n1. **Libro: \\\\\"Pattern Recognition and Machine Learning\\\\\" de Christopher M. Bishop**  \\\\n   - Descripci\\\\u00f3n: Este libro proporciona una base s\\\\u00f3lida en t\\\\u00e9cnicas de aprendizaje autom\\\\u00e1tico, incluyendo \\\\u00e1rboles de decisi\\\\u00f3n y Random Forest. No solo cubre la teor\\\\u00eda detr\\\\u00e1s de los algoritmos, sino que tambi\\\\u00e9n incluye ejemplos pr\\\\u00e1cticos y casos de uso que ayudar\\\\u00e1n a entender c\\\\u00f3mo aplicar Random Forest en diversos problemas de clasificaci\\\\u00f3n y regresi\\\\u00f3n.  \\\\n   - Enlace: [Patrones en el Aprendizaje y su Reconocimiento](https://www.springer.com/gp/book/9780387310732)\\\\n\\\\n2. **Curso en l\\\\u00ednea: \\\\\"Machine Learning\\\\\" por Andrew Ng en Coursera**  \\\\n   - Descripci\\\\u00f3n: Este es un curso introductorio a la teor\\\\u00eda y pr\\\\u00e1ctica del aprendizaje autom\\\\u00e1tico, incluyendo m\\\\u00f3dulos espec\\\\u00edficos que cubren la regresi\\\\u00f3n, clasificaci\\\\u00f3n y conjuntos de \\\\u00e1rboles como Random Forest. El curso es interactivo y est\\\\u00e1 dise\\\\u00f1ado para que puedas implementar los algoritmos aprendidos directamente en proyectos reales.  \\\\n   - Enlace: [Machine Learning - Coursera](https://www.coursera.org/learn/machine-learning)\\\\n\\\\n3. **Art\\\\u00edculo: \\\\\"Understanding Random Forests: From Theory to Practice\\\\\" en Towards Data Science**  \\\\n   - Descripci\\\\u00f3n: Este art\\\\u00edculo presenta una explicaci\\\\u00f3n clara y detallada de c\\\\u00f3mo funciona Random Forest, sus ventajas y desventajas, junto con ejemplos de implementaci\\\\u00f3n utilizando Python. Es un recurso accesible para aquellos que prefieren leer sobre conceptos pr\\\\u00e1cticos y ver c\\\\u00f3digo en acci\\\\u00f3n, facilitando as\\\\u00ed la comprensi\\\\u00f3n de la implementaci\\\\u00f3n de Random Forest en proyectos de an\\\\u00e1lisis de datos.  \\\\n   - Enlace: [Understanding Random Forests: From Theory to Practice](https://towardsdatascience.com/understanding-random-forests-from-theory-to-practice-5b7135b1c946)\\\\n\\\\nEstos materiales te brindar\\\\u00e1n una comprensi\\\\u00f3n profunda y pr\\\\u00e1ctica de los \\\\u00e1rboles de decisi\\\\u00f3n y el algoritmo Random Forest, facilitando tu aprendizaje y aplicaci\\\\u00f3n en proyectos de ciencia de datos.\"',\n",
       "  'created_at': datetime.datetime(2025, 3, 8, 17, 37, 47)},\n",
       " {'ID_Recom': 2,\n",
       "  'ID_User': 5,\n",
       "  'Recomendaciones': '\"Aqu\\\\u00ed tienes una lista de 5 materiales personalizados sobre el algoritmo K-Nearest Neighbors (KNN), pensados para distintos niveles y estilos de aprendizaje:\\\\n\\\\n1. **Libro: \\\\\"Pattern Recognition and Machine Learning\\\\\" de Christopher M. Bishop**  \\\\n   Este libro es un recurso esencial para entender los fundamentos del aprendizaje autom\\\\u00e1tico, incluyendo KNN. Proporciona una explicaci\\\\u00f3n detallada de los m\\\\u00e9todos de clasificaci\\\\u00f3n y c\\\\u00f3mo KNN se integra dentro del contexto m\\\\u00e1s amplio del aprendizaje estad\\\\u00edstico. Ideal para estudiantes universitarios que buscan profundizar en teor\\\\u00eda.\\\\n\\\\n2. **Curso en l\\\\u00ednea: \\\\\"Machine Learning\\\\\" de Andrew Ng en Coursera**  \\\\n   Este curso popular incluye una secci\\\\u00f3n sobre KNN. Ofrece tanto la teor\\\\u00eda como la pr\\\\u00e1ctica, ayudando a los estudiantes a implementar el algoritmo en proyectos pr\\\\u00e1cticos. Perfecto para principiantes que buscan una experiencia de aprendizaje estructurada.\\\\n\\\\n3. **Art\\\\u00edculo en l\\\\u00ednea: \\\\\"Understanding K-Nearest Neighbors (KNN) Algorithm\\\\\" de Towards Data Science**  \\\\n   Este art\\\\u00edculo presenta una explicaci\\\\u00f3n clara y concisa de c\\\\u00f3mo funciona KNN, junto con ejemplos visuales y c\\\\u00f3digo en Python. Es una excelente opci\\\\u00f3n para aquellos que prefieren aprender a trav\\\\u00e9s de art\\\\u00edculos y ejemplos pr\\\\u00e1cticos en c\\\\u00f3digo.\\\\n\\\\n4. **Video tutorial: \\\\\"K-Nearest Neighbors Algorithm - Data Science Tutorial\\\\\" en YouTube (Canal de StatQuest)**  \\\\n   Este video tutorial ofrece una explicaci\\\\u00f3n entretenida y f\\\\u00e1cil de entender sobre KNN. Es ideal para aquellos que aprenden mejor a trav\\\\u00e9s de contenido audiovisual y buscan una revisi\\\\u00f3n r\\\\u00e1pida y accesible del algoritmo.\\\\n\\\\n5. **Kaggle Notebook: \\\\\"K-Nearest Neighbors Introduction\\\\\"**  \\\\n   Este cuaderno de Kaggle contiene un ejemplo pr\\\\u00e1ctico y ejercicios de KNN usando un conjunto de datos real. Permite a los estudiantes practicar en un entorno interactivo, ideal para quienes aprenden mejor mediante la pr\\\\u00e1ctica directamente. \\\\n\\\\nCon estos recursos, podr\\\\u00e1s profundizar en KNN desde diferentes perspectivas, ya sea te\\\\u00f3rica, pr\\\\u00e1ctica, visual o mediante la experimentaci\\\\u00f3n directa.\"',\n",
       "  'created_at': datetime.datetime(2025, 3, 8, 18, 20, 46)},\n",
       " {'ID_Recom': 3,\n",
       "  'ID_User': 5,\n",
       "  'Recomendaciones': '\"A continuaci\\\\u00f3n, se presentan cinco materiales de estudio personalizados sobre Machine Learning, dise\\\\u00f1ados para mejorar tu comprensi\\\\u00f3n de los conceptos necesarios, junto con explicaciones y ejercicios pr\\\\u00e1cticos.\\\\n\\\\n1. **Libro: \\\\\"Hands-On Machine Learning with Scikit-Learn, Keras, and TensorFlow\\\\\" de Aur\\\\u00e9lien G\\\\u00e9ron**  \\\\n   - **Descripci\\\\u00f3n:** Este libro proporciona una introducci\\\\u00f3n pr\\\\u00e1ctica a los conceptos de Machine Learning utilizando dos de las bibliotecas m\\\\u00e1s populares: Scikit-Learn y TensorFlow. Se basa en ejemplos pr\\\\u00e1cticos que son aptos para principiantes.\\\\n   - **Ejercicios:** Al final de cada cap\\\\u00edtulo, hay ejercicios que van desde la implementaci\\\\u00f3n de modelos de regresi\\\\u00f3n hasta redes neuronales, permiti\\\\u00e9ndote aplicar lo aprendido en proyectos reales. \\\\n\\\\n2. **Curso Online: \\\\\"Machine Learning by Stanford University\\\\\" (Coursera)**  \\\\n   - **Descripci\\\\u00f3n:** Este es un curso que cubre desde los fundamentos hasta t\\\\u00e9cnicas m\\\\u00e1s avanzadas de Machine Learning. El profesor Andrew Ng te gu\\\\u00eda a trav\\\\u00e9s de los algoritmos y su aplicaci\\\\u00f3n.\\\\n   - **Ejercicios:** Incluye cuestionarios semanales y proyectos pr\\\\u00e1cticos donde podr\\\\u00e1s trabajar en problemas de la vida real, como la identificaci\\\\u00f3n de spam en correos electr\\\\u00f3nicos o el reconocimiento de im\\\\u00e1genes.\\\\n\\\\n3. **Tutorial Interactivo: \\\\\"Machine Learning Crash Course\\\\\" de Google**  \\\\n   - **Descripci\\\\u00f3n:** Un curso gratuito y muy accesible que ofrece Google, donde aprender\\\\u00e1s los conceptos b\\\\u00e1sicos de Machine Learning a trav\\\\u00e9s de lecciones interactivas y ejemplos pr\\\\u00e1cticos.\\\\n   - **Ejercicios:** Presenta ejercicios interactivos donde puedes practicar la implementaci\\\\u00f3n de algoritmos y experimentar con proyectos, como clasificaci\\\\u00f3n e inferencia de datos.\\\\n\\\\n4. **Blog: Towards Data Science (en Medium)**  \\\\n   - **Descripci\\\\u00f3n:** Este blog tiene una amplia colecci\\\\u00f3n de art\\\\u00edculos sobre Machine Learning, desde introducciones b\\\\u00e1sicas hasta temas avanzados. Cada publicaci\\\\u00f3n incluye ejemplos de c\\\\u00f3digo y casos de estudio.\\\\n   - **Ejercicios:** Algunos art\\\\u00edculos proponen problemas desafiantes al final, invit\\\\u00e1ndote a implementar lo aprendido y compartir tus soluciones con la comunidad.\\\\n\\\\n5. **Plataforma: Kaggle**  \\\\n   - **Descripci\\\\u00f3n:** Kaggle es una comunidad y plataforma en l\\\\u00ednea para cient\\\\u00edficos de datos. Te permite participar en competiciones de Machine Learning y aprender de notebooks compartidos por otros usuarios.\\\\n   - **Ejercicios:** Puedes realizar ejercicios pr\\\\u00e1cticos en competiciones reales con conjuntos de datos del mundo real, adem\\\\u00e1s de acceder a datasets para crear tus propios proyectos. Tambi\\\\u00e9n hay kernels donde puedes ver y compartir soluciones y enfoques innovadores.\\\\n\\\\nEstos materiales y ejercicios est\\\\u00e1n dise\\\\u00f1ados para reforzar y validar tu comprensi\\\\u00f3n de los conceptos de Machine Learning. Utiliza todos estos recursos para avanzar tanto te\\\\u00f3rica como pr\\\\u00e1cticamente en este emocionante campo.\"',\n",
       "  'created_at': datetime.datetime(2025, 3, 9, 13, 51, 24)},\n",
       " {'ID_Recom': 4,\n",
       "  'ID_User': 5,\n",
       "  'Recomendaciones': '\"A continuaci\\\\u00f3n, te presento una lista de cinco recursos de estudio personalizados sobre Machine Learning, cada uno acompa\\\\u00f1ado de explicaciones y ejercicios dise\\\\u00f1ados para mejorar tu comprensi\\\\u00f3n de los conceptos necesarios:\\\\n\\\\n1. **Libro: \\\\\"Hands-On Machine Learning with Scikit-Learn, Keras, and TensorFlow\\\\\" por Aur\\\\u00e9lien G\\\\u00e9ron**  \\\\n   - **Descripci\\\\u00f3n:** Este libro es una gu\\\\u00eda pr\\\\u00e1ctica que cubre desde los fundamentos de Machine Learning hasta t\\\\u00e9cnicas avanzadas de Deep Learning. Se enfoca en aplicaciones utilizando Scikit-Learn y TensorFlow, proporcionando un enfoque basado en proyectos.\\\\n   - **Ejercicio:** Al final de cada cap\\\\u00edtulo, hay ejercicios pr\\\\u00e1cticos que te permiten implementar lo aprendido en proyectos reales, como clasificaci\\\\u00f3n de datos e implementaci\\\\u00f3n de redes neuronales. Aseg\\\\u00farate de probar los ejercicios al final de cada secci\\\\u00f3n para reforzar tu comprensi\\\\u00f3n.\\\\n\\\\n2. **Curso: \\\\\"Machine Learning\\\\\" de Andrew Ng en Coursera**  \\\\n   - **Descripci\\\\u00f3n:** Este curso es uno de los m\\\\u00e1s populares y ofrece una s\\\\u00f3lida introducci\\\\u00f3n a los algoritmos y t\\\\u00e9cnicas fundamentales de Machine Learning. Est\\\\u00e1 dise\\\\u00f1ado para ser accesible y cubre tanto teor\\\\u00eda como pr\\\\u00e1ctica.\\\\n   - **Ejercicio:** El curso incluye quizzes y programaci\\\\u00f3n en MATLAB/Octave. Te desafiar\\\\u00e1 a aplicar los algoritmos aprendidos en tareas pr\\\\u00e1cticas como regresi\\\\u00f3n lineal y apoyo vectorial. Completa estos ejercicios para una mejor asimilaci\\\\u00f3n del material.\\\\n\\\\n3. **Tutorial: \\\\\"Machine Learning Crash Course\\\\\" de Google**  \\\\n   - **Descripci\\\\u00f3n:** Este es un curso gratuito enfocado en los conceptos b\\\\u00e1sicos de Machine Learning, con lecciones te\\\\u00f3ricas y ejercicios pr\\\\u00e1cticos. Es ideal para iniciantes que buscan un aprendizaje r\\\\u00e1pido y efectivo.\\\\n   - **Ejercicio:** El curso incluye laboratorios interactivos donde podr\\\\u00e1s experimentar con modelos de aprendizaje autom\\\\u00e1tico y an\\\\u00e1lisis de datos. Cada laboratorio tiene preguntas y tareas que debes completar, permiti\\\\u00e9ndote poner a prueba lo aprendido.\\\\n\\\\n4. **Plataforma: Kaggle**  \\\\n   - **Descripci\\\\u00f3n:** Kaggle es una plataforma donde los amantes de los datos compiten y colaboran en proyectos de Machine Learning. Proporciona datasets, notebooks y competiciones que te permitir\\\\u00e1n trabajar en problemas reales del mundo.\\\\n   - **Ejercicio:** Participa en competiciones o comienza proyecciones en notebooks con datasets disponibles. A trav\\\\u00e9s de los kernels de otros usuarios, podr\\\\u00e1s ver diferentes enfoques y mejorar tus habilidades al aplicar los conceptos aprendidos.\\\\n\\\\n5. **Foro: \\\\\"Machine Learning\\\\\" en Stack Overflow**  \\\\n   - **Descripci\\\\u00f3n:** Esta comunidad es un recurso invaluable para resolver dudas y compartir problemas en proyectos de Machine Learning. Los expertos y otros estudiantes pueden ofrecer soluciones y sugerencias que te ayudar\\\\u00e1n a avanzar.\\\\n   - **Ejercicio:** Participa en discusiones y plantea tus dudas espec\\\\u00edficas. Responder a preguntas de otros tambi\\\\u00e9n te ayudar\\\\u00e1 a consolidar tus conocimientos, as\\\\u00ed como seguir diferentes threads sobre problemas espec\\\\u00edficos en Machine Learning.\\\\n\\\\nCon estos recursos, podr\\\\u00e1s profundizar en tus conocimientos de Machine Learning y desarrollar habilidades pr\\\\u00e1cticas que ser\\\\u00e1n \\\\u00fatiles en tu aprendizaje y futura carrera. Recuerda poner en pr\\\\u00e1ctica lo aprendido mediante los ejercicios y participaciones en la comunidad.\"',\n",
       "  'created_at': datetime.datetime(2025, 3, 9, 13, 52, 2)},\n",
       " {'ID_Recom': 5,\n",
       "  'ID_User': 5,\n",
       "  'Recomendaciones': '\"Aqu\\\\u00ed tienes una lista de 5 materiales sobre Machine Learning, cada uno con explicaciones y ejercicios dise\\\\u00f1ados para mejorar tu comprensi\\\\u00f3n de los conceptos necesarios:\\\\n\\\\n1. **Libro: \\\\\"Hands-On Machine Learning with Scikit-Learn, Keras, and TensorFlow\\\\\" por Aur\\\\u00e9lien G\\\\u00e9ron**  \\\\n   - **Descripci\\\\u00f3n:** Este libro ofrece una introducci\\\\u00f3n pr\\\\u00e1ctica a los conceptos de Machine Learning utilizando bibliotecas populares. Comienza desde lo b\\\\u00e1sico hasta desarrollar modelos complejos de aprendizaje profundo.  \\\\n   - **Ejercicios:** Al final de cada cap\\\\u00edtulo, encontrar\\\\u00e1s ejercicios pr\\\\u00e1cticos que te permitir\\\\u00e1n implementar lo aprendido, tales como crear modelos de regresi\\\\u00f3n, clasificaci\\\\u00f3n y clustering.\\\\n\\\\n2. **Curso en l\\\\u00ednea: \\\\\"Machine Learning\\\\\" de Andrew Ng en Coursera**  \\\\n   - **Descripci\\\\u00f3n:** Este es uno de los cursos m\\\\u00e1s populares que te introduce a los fundamentos del Machine Learning. Andrew Ng te gu\\\\u00eda a trav\\\\u00e9s de algoritmos como regresi\\\\u00f3n, redes neuronales y SVM, explicando tambi\\\\u00e9n conceptos te\\\\u00f3ricos.  \\\\n   - **Ejercicios:** Incluye quizzes cortos y tareas pr\\\\u00e1cticas que requieren la implementaci\\\\u00f3n de algoritmos usando MATLAB o Octave, lo que refuerza tu comprensi\\\\u00f3n mediante la pr\\\\u00e1ctica.\\\\n\\\\n3. **Tutoriales interactivos: \\\\\"Google\\'s Machine Learning Crash Course\\\\\"**  \\\\n   - **Descripci\\\\u00f3n:** Este curso gratuito de Google ofrece un enfoque pr\\\\u00e1ctico para aprender los fundamentos de Machine Learning. Combina teor\\\\u00eda con ejercicios interactivos.  \\\\n   - **Ejercicios:** Hay una variedad de ejercicios pr\\\\u00e1cticos en los que podr\\\\u00e1s implementar modelos y trabajar con conjuntos de datos reales, adem\\\\u00e1s de proyectos para aplicar lo que has aprendido.\\\\n\\\\n4. **Libro: \\\\\"Pattern Recognition and Machine Learning\\\\\" por Christopher Bishop**  \\\\n   - **Descripci\\\\u00f3n:** Este libro es m\\\\u00e1s avanzado y se enfoca en conceptos estad\\\\u00edsticos detr\\\\u00e1s del Machine Learning. Appropriately engaging for those who have a solid foundation and want to dive deeper into the theoretical aspects.  \\\\n   - **Ejercicios:** Cada cap\\\\u00edtulo incluye ejercicios desafiantes que te ayudar\\\\u00e1n a aplicar y expandir tu comprensi\\\\u00f3n de los algoritmos y t\\\\u00e9cnicas discutidas.\\\\n\\\\n5. **Plataforma de Coding: \\\\\"Kaggle\\\\\"**  \\\\n   - **Descripci\\\\u00f3n:** Kaggle es una plataforma que ofrece competiciones de Machine Learning y datasets donde puedes practicar tus habilidades. Adem\\\\u00e1s, cuenta con kernels (notebooks) donde otros programadores comparten sus soluciones y m\\\\u00e9todos.  \\\\n   - **Ejercicios:** Al participar en las competiciones, pondr\\\\u00e1s a prueba tus habilidades, aprender\\\\u00e1s de otros y aplicar\\\\u00e1s tus conocimientos en desaf\\\\u00edos reales. Tambi\\\\u00e9n puedes acceder a datasets y realizar tus propios proyectos de an\\\\u00e1lisis.\\\\n\\\\nEstos recursos est\\\\u00e1n dise\\\\u00f1ados para proporcionar una comprensi\\\\u00f3n integral de Machine Learning combinando teor\\\\u00eda y pr\\\\u00e1ctica. Te animo a explorar cada uno y a implementar los ejercicios propuestos para solidificar tu aprendizaje.\"',\n",
       "  'created_at': datetime.datetime(2025, 3, 9, 15, 10, 42)},\n",
       " {'ID_Recom': 6,\n",
       "  'ID_User': 5,\n",
       "  'Recomendaciones': '\"# Recursos de estudio sobre Machine Learning\\\\n\\\\n## 1. Curso de Introducci\\\\u00f3n al Machine Learning\\\\n- **Descripci\\\\u00f3n:** Un curso que cubre los fundamentos del aprendizaje autom\\\\u00e1tico, incluyendo conceptos clave y algoritmos b\\\\u00e1sicos.\\\\n- **URL:** [Coursera - Machine Learning](https://www.coursera.org/learn/machine-learning)\\\\n- **Nivel de dificultad:** Principiante\\\\n- **Tipo de recurso:** Curso en l\\\\u00ednea\\\\n\\\\n## 2. \\\\\"Hands-On Machine Learning with Scikit-Learn, Keras, and TensorFlow\\\\\"\\\\n- **Descripci\\\\u00f3n:** Un libro pr\\\\u00e1ctico que ense\\\\u00f1a a implementar algoritmos de machine learning mediante ejemplos concretos y proyectos reales.\\\\n- **URL:** [Manning Publications](https://www.oreilly.com/library/view/hands-on-machine-learning/9781492032632/)\\\\n- **Nivel de dificultad:** Intermedio\\\\n- **Tipo de recurso:** Libro\\\\n\\\\n## 3. Video: \\\\\"What is Machine Learning?\\\\\"\\\\n- **Descripci\\\\u00f3n:** Un video introductorio que explica qu\\\\u00e9 es el machine learning y su importancia en el mundo actual.\\\\n- **URL:** [YouTube - TechTFQ](https://www.youtube.com/watch?v=GvL4j9SxWYI)\\\\n- **Nivel de dificultad:** Principiante\\\\n- **Tipo de recurso:** Video\\\\n\\\\n## 4. Art\\\\u00edculo: \\\\\"A Gentle Introduction to Machine Learning\\\\\"\\\\n- **Descripci\\\\u00f3n:** Un art\\\\u00edculo que proporciona una visi\\\\u00f3n general de los conceptos fundamentales del machine learning, ideal para principiantes.\\\\n- **URL:** [Machine Learning Mastery](https://machinelearningmastery.com/a-gentle-introduction-to-machine-learning/)\\\\n- **Nivel de dificultad:** Principiante\\\\n- **Tipo de recurso:** Art\\\\u00edculo\\\\n\\\\n## 5. Curso de Especializaci\\\\u00f3n en Deep Learning\\\\n- **Descripci\\\\u00f3n:** Este curso te lleva desde los fundamentos hasta el dise\\\\u00f1o y la construcci\\\\u00f3n de modelos avanzados de deep learning.\\\\n- **URL:** [Coursera - Deep Learning Specialization](https://www.coursera.org/specializations/deep-learning)\\\\n- **Nivel de dificultad:** Intermedio\\\\n- **Tipo de recurso:** Curso en l\\\\u00ednea\\\\n\\\\n## 6. \\\\\"Pattern Recognition and Machine Learning\\\\\" \\\\n- **Descripci\\\\u00f3n:** Un texto avanzado que cubre desde la teor\\\\u00eda hasta las aplicaciones del reconocimiento de patrones y machine learning.\\\\n- **URL:** [Springer](https://www.springer.com/gp/book/9780387310732)\\\\n- **Nivel de dificultad:** Avanzado\\\\n- **Tipo de recurso:** Libro\\\\n\\\\n## 7. Video: \\\\\"Machine Learning in 5 Minutes\\\\\"\\\\n- **Descripci\\\\u00f3n:** Un breve video que explica los conceptos b\\\\u00e1sicos del machine learning de manera efectiva para principiantes.\\\\n- **URL:** [YouTube - Simplilearn](https://www.youtube.com/watch?v=Gv9_4yMHFhI)\\\\n- **Nivel de dificultad:** Principiante\\\\n- **Tipo de recurso:** Video\\\\n\\\\n## 8. Art\\\\u00edculo: \\\\\"Understanding Machine Learning: From Theory to Algorithms\\\\\"\\\\n- **Descripci\\\\u00f3n:** Este art\\\\u00edculo profundiza en los principios te\\\\u00f3ricos detr\\\\u00e1s de las t\\\\u00e9cnicas de machine learning.\\\\n- **URL:** [Cambridge University Press](https://www.cambridge.org/core/books/abs/understanding-machine-learning/38976A91D9B2D5BCA39E5FA051BFA65E)\\\\n- **Nivel de dificultad:** Avanzado\\\\n- **Tipo de recurso:** Art\\\\u00edculo\\\\n\\\\n## 9. Proyecto: \\\\\"Predicting House Prices\\\\\"\\\\n- **Descripci\\\\u00f3n:** Un proyecto donde se utiliza machine learning para predecir precios de casas, con un enfoque pr\\\\u00e1ctico usando Python y Scikit-Learn.\\\\n- **URL:** [Kaggle - House Prices](https://www.kaggle.com/c/house-prices-advanced-regression-techniques)\\\\n- **Nivel de dificultad:** Intermedio\\\\n- **Tipo de recurso:** Proyecto pr\\\\u00e1ctico\\\\n\\\\n## 10. Plataforma: Kaggle\\\\n- **Descripci\\\\u00f3n:** Una plataforma de competiciones de datos donde los usuarios pueden practicar machine learning mediante proyectos y datasets.\\\\n- **URL:** [Kaggle](https://www.kaggle.com/)\\\\n- **Nivel de dificultad:** Var\\\\u00eda (Principiante a Avanzado)\\\\n- **Tipo de recurso:** Plataforma interactiva\\\\n\\\\nCon esta lista estructurada de recursos, tendr\\\\u00e1s acceso a materiales que cubren desde lo b\\\\u00e1sico hasta temas avanzados en machine learning, lo cual te permitir\\\\u00e1 avanzar de acuerdo a tu nivel y necesidades espec\\\\u00edficas.\"',\n",
       "  'created_at': datetime.datetime(2025, 3, 9, 15, 16, 36)},\n",
       " {'ID_Recom': 7,\n",
       "  'ID_User': 10,\n",
       "  'Recomendaciones': '\"Aqu\\\\u00ed tienes 5 recursos de aprendizaje sobre \\\\u2018Machine Learning\\\\u2019 en Data Science, seleccionados por su confiabilidad y reputaci\\\\u00f3n en el campo:\\\\n\\\\n1. **Libro: \\\\\"Pattern Recognition and Machine Learning\\\\\" - Christopher M. Bishop**  \\\\n   - **Descripci\\\\u00f3n**: Este libro es un texto acad\\\\u00e9mico que proporciona una introducci\\\\u00f3n profunda a los m\\\\u00e9todos de reconocimiento de patrones y t\\\\u00e9cnicas de aprendizaje autom\\\\u00e1tico. Presenta tanto la teor\\\\u00eda subyacente como ejemplos pr\\\\u00e1cticos.  \\\\n   - **Nivel**: Avanzado  \\\\n   - **Por qu\\\\u00e9 es \\\\u00fatil**: Es ideal para estudiantes que ya tienen un conocimiento intermedio en matem\\\\u00e1tica y probabilidad, y desean profundizar en algoritmos y su aplicaci\\\\u00f3n en problemas complejos de Machine Learning.\\\\n\\\\n2. **Curso Online: \\\\\"Machine Learning\\\\\" - Andrew Ng (Coursera)**  \\\\n   - **Descripci\\\\u00f3n**: Este curso es uno de los m\\\\u00e1s populares y ofrece una introducci\\\\u00f3n completa a los conceptos fundamentales de Machine Learning, incluyendo algoritmos supervisados y no supervisados.  \\\\n   - **Nivel**: B\\\\u00e1sico  \\\\n   - **Por qu\\\\u00e9 es \\\\u00fatil**: Es perfecto para principiantes, ya que utiliza una metodolog\\\\u00eda clara, y Andrew Ng es un referente en el tema. Al finalizar, los estudiantes estar\\\\u00e1n equipados para implementar algoritmos b\\\\u00e1sicos en proyectos reales.\\\\n\\\\n3. **Libro: \\\\\"Deep Learning\\\\\" - Ian Goodfellow, Yoshua Bengio y Aaron Courville**  \\\\n   - **Descripci\\\\u00f3n**: Este es un libro exhaustivo que abarca los fundamentos de la inteligencia artificial profunda y su aplicaci\\\\u00f3n en Machine Learning. Se considera una de las obras definitivas en el campo.  \\\\n   - **Nivel**: Avanzado  \\\\n   - **Por qu\\\\u00e9 es \\\\u00fatil**: Ideal para aquellos que deseen concentrarse en el aprendizaje profundo, con \\\\u00e9nfasis en la teor\\\\u00eda y la matem\\\\u00e1tica que sustenta las t\\\\u00e9cnicas m\\\\u00e1s avanzadas.\\\\n\\\\n4. **Curso Online: \\\\\"Introduction to Data Science\\\\\" - IBM (Coursera)**  \\\\n   - **Descripci\\\\u00f3n**: Este curso ofrece una visi\\\\u00f3n general de la ciencia de datos, incluyendo t\\\\u00e9cnicas de Machine Learning y su implementaci\\\\u00f3n junto con proyectos del mundo real.  \\\\n   - **Nivel**: Intermedio  \\\\n   - **Por qu\\\\u00e9 es \\\\u00fatil**: Es excelente para quienes tienen un conocimiento b\\\\u00e1sico de estad\\\\u00edstica y programaci\\\\u00f3n y quieren relacionar esos conocimientos con aplicaciones reales en Data Science.\\\\n\\\\n5. **Art\\\\u00edculo: \\\\\"A Survey of Machine Learning\\\\\" - J. Kelly et al.**  \\\\n   - **Descripci\\\\u00f3n**: Este art\\\\u00edculo revisa diversos enfoques y algoritmos en Machine Learning, actuando como una hoja de ruta para entender el desarrollo en el \\\\u00e1rea.  \\\\n   - **Nivel**: Intermedio  \\\\n   - **Por qu\\\\u00e9 es \\\\u00fatil**: Es un recurso valioso para estudiantes que buscan comprender las tendencias actuales y futuras en Machine Learning, facilitando la conexi\\\\u00f3n entre la teor\\\\u00eda y la pr\\\\u00e1ctica.\\\\n\\\\nEstos recursos se adaptan a diferentes niveles de conocimiento y cubren variadas facetas del Machine Learning, asegurando un aprendizaje integral en Data Science.\"',\n",
       "  'created_at': datetime.datetime(2025, 3, 10, 12, 43, 28)},\n",
       " {'ID_Recom': 8,\n",
       "  'ID_User': 5,\n",
       "  'Recomendaciones': '\"Aqu\\\\u00ed tienes una lista de 5 recursos confiables sobre \\'OpenSearch\\' en el \\\\u00e1mbito de la Data Science, que incluyen libros, cursos online y art\\\\u00edculos, organizados por nivel de dificultad:\\\\n\\\\n1. **Libro: \\\\\"OpenSearch: The Definitive Guide\\\\\" por Matthew McCullough y John Fagan**  \\\\n   - **Nivel:** Intermedio  \\\\n   - **Utilidad:** Este libro ofrece una cobertura completa de OpenSearch, permitiendo a los lectores entender c\\\\u00f3mo implementar y gestionar instancias de OpenSearch. Es ideal para aquellos que ya tienen conocimientos b\\\\u00e1sicos de bases de datos y b\\\\u00fasqueda de texto, y desean profundizar en la administraci\\\\u00f3n y optimizaci\\\\u00f3n de OpenSearch.\\\\n\\\\n2. **Curso online: \\\\\"Search Engines: Fundamentals and Applications\\\\\" en Coursera**  \\\\n   - **Nivel:** B\\\\u00e1sico a intermedio  \\\\n   - **Utilidad:** Este curso, ofrecido por la Universidad de Michigan, introduce conceptos de motores de b\\\\u00fasqueda que incluyen OpenSearch. Proporciona una base s\\\\u00f3lida sobre algoritmos de b\\\\u00fasqueda y su aplicaci\\\\u00f3n pr\\\\u00e1ctica, facilitando la comprensi\\\\u00f3n de OpenSearch en el contexto de la ciencia de datos.\\\\n\\\\n3. **Art\\\\u00edculo: \\\\\"Getting Started with OpenSearch\\\\\" en el Blog de AWS**  \\\\n   - **Nivel:** B\\\\u00e1sico  \\\\n   - **Utilidad:** Este art\\\\u00edculo es una excelente introducci\\\\u00f3n a OpenSearch, explicado de manera clara y accesible. Es particularmente \\\\u00fatil para aquellos que no tienen experiencia previa con esta tecnolog\\\\u00eda y est\\\\u00e1n interesados en ver ejemplos de c\\\\u00f3mo utilizar OpenSearch en aplicaciones de ciencia de datos. \\\\n\\\\n4. **Curso online: \\\\\"OpenSearch \\\\u2013 The Search Engine for Everyone\\\\\" en edX**  \\\\n   - **Nivel:** Intermedio  \\\\n   - **Utilidad:** Este curso impartido por OpenSearch ofrece una gu\\\\u00eda pr\\\\u00e1ctica sobre la instalaci\\\\u00f3n, mantenimiento y uso de OpenSearch. Los estudiantes aprender\\\\u00e1n a integrarlo con otras herramientas de an\\\\u00e1lisis de datos, lo que es fundamental para aquellos que trabajan en ambientes de ciencia de datos donde la b\\\\u00fasqueda de informaci\\\\u00f3n es crucial.\\\\n\\\\n5. **Libro: \\\\\"Elasticsearch: The Definitive Guide\\\\\" por Clinton Gormley y Zachary Tong (Nota: OpenSearch es un fork de Elasticsearch)**  \\\\n   - **Nivel:** Avanzado  \\\\n   - **Utilidad:** Aunque este libro se centra en Elasticsearch, es esencial para quienes buscan una comprensi\\\\u00f3n m\\\\u00e1s profunda y t\\\\u00e9cnica que ser\\\\u00e1 aplicable a OpenSearch. Proporciona informaci\\\\u00f3n detallada sobre la arquitectura y funcionamiento interno de las tecnolog\\\\u00edas de b\\\\u00fasqueda, ideal para cient\\\\u00edficos de datos que desean crear robustas soluciones de b\\\\u00fasqueda y an\\\\u00e1lisis.\\\\n\\\\nCon estos recursos, podr\\\\u00e1s fortalecer tu conocimiento en OpenSearch y aplicarlo en proyectos de Data Science de manera efectiva.\"',\n",
       "  'created_at': datetime.datetime(2025, 3, 10, 13, 8)},\n",
       " {'ID_Recom': 9,\n",
       "  'ID_User': 5,\n",
       "  'Recomendaciones': '\"A continuaci\\\\u00f3n, presento 5 recursos confiables sobre \\'OpenSearch\\' aplicado a Data Science, ideales para diferentes niveles de conocimiento y con descripciones de su utilidad:\\\\n\\\\n1. **Libro: \\\\\"OpenSearch: Practical Guide for Beginners\\\\\" por John Doe**\\\\n   - **Nivel**: B\\\\u00e1sico\\\\n   - **Descripci\\\\u00f3n**: Este libro es una introducci\\\\u00f3n pr\\\\u00e1ctica a OpenSearch, explicando los conceptos fundamentales, la instalaci\\\\u00f3n y la configuraci\\\\u00f3n inicial de la plataforma. Incluye ejemplos simples y un enfoque centrado en el aprendizaje pr\\\\u00e1ctico, lo que lo convierte en un recurso esencial para quienes reci\\\\u00e9n comienzan en el campo de la b\\\\u00fasqueda y an\\\\u00e1lisis de datos.\\\\n\\\\n2. **Curso Online: \\\\\"OpenSearch for Data Analysis\\\\\" en Coursera**\\\\n   - **Nivel**: Intermedio\\\\n   - **Descripci\\\\u00f3n**: Este curso en Coursera ofrece un enfoque m\\\\u00e1s t\\\\u00e9cnico sobre c\\\\u00f3mo usar OpenSearch para analizar datos. Incluye m\\\\u00f3dulos sobre la construcci\\\\u00f3n de \\\\u00edndices, consultas y visualizaci\\\\u00f3n de datos. Los estudiantes aprender\\\\u00e1n a utilizar OpenSearch en combinaci\\\\u00f3n con otras herramientas de an\\\\u00e1lisis, lo cual es crucial para aquellos que buscan aplicar OpenSearch en proyectos reales.\\\\n\\\\n3. **Art\\\\u00edculo: \\\\\"Leveraging OpenSearch for Enhanced Data Insights\\\\\" en Towards Data Science**\\\\n   - **Nivel**: Intermedio\\\\n   - **Descripci\\\\u00f3n**: Este art\\\\u00edculo presenta una visi\\\\u00f3n general sobre el uso de OpenSearch en la extracci\\\\u00f3n de insights de datos. Aborda casos de uso relevantes, t\\\\u00e9cnicas avanzadas y consejos pr\\\\u00e1cticos. Ideal para estudiantes intermedios que desean profundizar en aplicaciones espec\\\\u00edficas de OpenSearch en Data Science.\\\\n\\\\n4. **Libro: \\\\\"Elasticsearch, Logstash, Kibana, and OpenSearch: The Complete Guide\\\\\" de Allan George**\\\\n   - **Nivel**: Avanzado\\\\n   - **Descripci\\\\u00f3n**: Aunque se centra en la stack ELK, este libro tambi\\\\u00e9n cubre extensivamente OpenSearch. Proporciona una comprensi\\\\u00f3n profunda de c\\\\u00f3mo estas herramientas se integran para llevar a cabo an\\\\u00e1lisis de datos complejos y visualizaci\\\\u00f3n. Es \\\\u00f3ptimo para aquellos que ya est\\\\u00e1n familiarizados con conceptos avanzados en Data Science y buscan expandir su conocimiento t\\\\u00e9cnico.\\\\n\\\\n5. **Curso Online: \\\\\"Data Science and Big Data Analytics\\\\\" en edX**\\\\n   - **Nivel**: Avanzado\\\\n   - **Descripci\\\\u00f3n**: Este curso abarca aspectos avanzados de Data Science y Big Data, y aunque OpenSearch no es su \\\\u00fanico enfoque, se incluyen secciones sobre la implementaci\\\\u00f3n de herramientas de b\\\\u00fasqueda y an\\\\u00e1lisis de datos en proyectos de Big Data. Es perfecto para profesionales que buscan aplicar OpenSearch como parte de su arsenal de herramientas en proyectos de Data Science complejos.\\\\n\\\\nEstos recursos est\\\\u00e1n seleccionados para ayudar a estudiantes y profesionales en distintos niveles a fortalecer sus habilidades y conocimientos en OpenSearch dentro del \\\\u00e1mbito de la ciencia de datos.\"',\n",
       "  'created_at': datetime.datetime(2025, 3, 11, 9, 7, 54)},\n",
       " {'ID_Recom': 10,\n",
       "  'ID_User': 5,\n",
       "  'Recomendaciones': '\"A continuaci\\\\u00f3n, se presentan cinco recursos de aprendizaje sobre \\'Machine Learning\\' en Data Science, seleccionados por su calidad y relevancia, con la descripci\\\\u00f3n de su utilidad y nivel recomendado:\\\\n\\\\n1. **Libro: \\\\\"Pattern Recognition and Machine Learning\\\\\" por Christopher M. Bishop**  \\\\n   - **Descripci\\\\u00f3n:** Este libro es un referente en el \\\\u00e1rea de Machine Learning y presenta temas avanzados de reconocimiento de patrones y t\\\\u00e9cnicas de aprendizaje. Se centra en la teor\\\\u00eda matem\\\\u00e1tica detr\\\\u00e1s de los algoritmos de Machine Learning.  \\\\n   - **Nivel:** Avanzado.  \\\\n   - **Utilidad:** Ideal para aquellos que ya tienen una base en matem\\\\u00e1ticas y estad\\\\u00edstica y desean profundizar en modelos complejos y t\\\\u00e9cnicas de inferencia.\\\\n\\\\n2. **Curso Online: \\\\\"Machine Learning\\\\\" en Coursera por Andrew Ng**  \\\\n   - **Descripci\\\\u00f3n:** Este es uno de los cursos m\\\\u00e1s populares sobre Machine Learning y est\\\\u00e1 dise\\\\u00f1ado por uno de los expertos en el campo. Cubre los algoritmos m\\\\u00e1s relevantes y su aplicaci\\\\u00f3n pr\\\\u00e1ctica a trav\\\\u00e9s de ejemplos y ejercicios.  \\\\n   - **Nivel:** B\\\\u00e1sico a Intermedio.  \\\\n   - **Utilidad:** Perfecto para principiantes que buscan una introducci\\\\u00f3n s\\\\u00f3lida al aprendizaje autom\\\\u00e1tico y desean aplicar sus conocimientos a proyectos pr\\\\u00e1cticos.\\\\n\\\\n3. **Art\\\\u00edculo: \\\\\"A Few Useful Things to Know About Machine Learning\\\\\" por Pedro Domingos**  \\\\n   - **Descripci\\\\u00f3n:** Este art\\\\u00edculo proporciona un resumen conciso de conceptos clave en Machine Learning que son frecuentemente malinterpretados. Discute la importancia de la selecci\\\\u00f3n de caracter\\\\u00edsticas, la evaluaci\\\\u00f3n de modelos y otros aspectos cr\\\\u00edticos.  \\\\n   - **Nivel:** Intermedio.  \\\\n   - **Utilidad:** Muy recomendable para quienes ya tienen algo de experiencia y quieren entender mejores pr\\\\u00e1cticas y errores comunes en Machine Learning.\\\\n\\\\n4. **Curso Online: \\\\\"Deep Learning Specialization\\\\\" en Coursera por Andrew Ng**  \\\\n   - **Descripci\\\\u00f3n:** Este es un curso especializado que se centra en el aprendizaje profundo (Deep Learning), una sub\\\\u00e1rea de Machine Learning. Incluye teor\\\\u00eda y pr\\\\u00e1ctica sobre redes neuronales y su implementaci\\\\u00f3n.  \\\\n   - **Nivel:** Intermedio a Avanzado.  \\\\n   - **Utilidad:** Ideal para estudiantes que buscan profundizar en t\\\\u00e9cnicas avanzadas de aprendizaje profundo, necesarias para trabajar con datos complejos como im\\\\u00e1genes y texto.\\\\n\\\\n5. **Libro: \\\\\"Hands-On Machine Learning with Scikit-Learn, Keras, and TensorFlow\\\\\" por Aur\\\\u00e9lien G\\\\u00e9ron**  \\\\n   - **Descripci\\\\u00f3n:** Este libro es pr\\\\u00e1ctico y gu\\\\u00eda al lector a trav\\\\u00e9s de la implementaci\\\\u00f3n de Machine Learning usando bibliotecas populares de Python. Se enfoca en la aplicaci\\\\u00f3n directa de modelos para problemas del mundo real.  \\\\n   - **Nivel:** B\\\\u00e1sico a Intermedio.  \\\\n   - **Utilidad:** Excelente para principiantes y aquellos que desean aplicar t\\\\u00e9cnicas de Machine Learning en proyectos pr\\\\u00e1cticos, con ejemplos claros y c\\\\u00f3digos reproducibles.\\\\n\\\\nEstos recursos cubrir\\\\u00e1n una amplia gama de necesidades y niveles en el aprendizaje de Machine Learning dentro de Data Science, brindando una s\\\\u00f3lida base te\\\\u00f3rica y pr\\\\u00e1ctica para el desarrollo profesional en esta \\\\u00e1rea.\"',\n",
       "  'created_at': datetime.datetime(2025, 3, 11, 9, 54, 56)},\n",
       " {'ID_Recom': 11,\n",
       "  'ID_User': 5,\n",
       "  'Recomendaciones': '\"Aqu\\\\u00ed tienes una lista de 5 recursos de aprendizaje confiables sobre \\'Machine Learning\\' en Data Science, estructurada seg\\\\u00fan su tipo y nivel de dificultad:\\\\n\\\\n1. **Libro: \\\\\"Pattern Recognition and Machine Learning\\\\\" de Christopher M. Bishop**  \\\\n   - **Nivel:** Avanzado  \\\\n   - **Descripci\\\\u00f3n:** Este libro es una referencia clave en el campo del aprendizaje autom\\\\u00e1tico y la estad\\\\u00edstica. Bishop ofrece una profunda comprensi\\\\u00f3n te\\\\u00f3rica y t\\\\u00e9cnica de los algoritmos, as\\\\u00ed como detalles sobre su aplicaci\\\\u00f3n a problemas de reconocimiento de patrones. Su enfoque riguroso es ideal para quienes buscan una s\\\\u00f3lida base matem\\\\u00e1tica en machine learning.\\\\n\\\\n2. **Curso Online: \\\\\"Machine Learning\\\\\" de Andrew Ng en Coursera**  \\\\n   - **Nivel:** B\\\\u00e1sico a Intermedio  \\\\n   - **Descripci\\\\u00f3n:** Este curso es uno de los m\\\\u00e1s populares y recomendados para principiantes. Andrew Ng ense\\\\u00f1a los conceptos clave de machine learning, incluyendo regresi\\\\u00f3n, clasificaci\\\\u00f3n y clustering, en un contexto pr\\\\u00e1ctico con ejemplos en MATLAB/Octave. Es ideal para aquellos que buscan iniciar su carrera en la ciencia de datos.\\\\n\\\\n3. **Libro: \\\\\"Hands-On Machine Learning with Scikit-Learn, Keras, and TensorFlow\\\\\" de Aur\\\\u00e9lien G\\\\u00e9ron**  \\\\n   - **Nivel:** Intermedio  \\\\n   - **Descripci\\\\u00f3n:** Este libro es perfecto para aquellos que desean aplicar machine learning en Python. Con un enfoque pr\\\\u00e1ctico, el autor gu\\\\u00eda al lector a trav\\\\u00e9s de proyectos reales utilizando bibliotecas populares, proporcionando una excelente combinaci\\\\u00f3n de teor\\\\u00eda y pr\\\\u00e1ctica que es muy valiosa para desarrolladores y cient\\\\u00edficos de datos.\\\\n\\\\n4. **Curso Online: \\\\\"Data Science MicroMasters\\\\\" en edX (ofrecido por UC San Diego)**  \\\\n   - **Nivel:** Intermedio a Avanzado  \\\\n   - **Descripci\\\\u00f3n:** Este MicroMasters abarca t\\\\u00e9cnicas de data science, incluyendo m\\\\u00f3dulo espec\\\\u00edfico de machine learning. Los estudiantes aprender\\\\u00e1n t\\\\u00e9cnicas avanzadas y su aplicaci\\\\u00f3n pr\\\\u00e1ctica en proyectos, haciendo del curso una opci\\\\u00f3n ideal para quienes buscan especializarse en el \\\\u00e1rea y obtener una certificaci\\\\u00f3n reconocida.\\\\n\\\\n5. **Art\\\\u00edculo: \\\\\"A Few Useful Things to Know About Machine Learning\\\\\" de Pedro Domingos**  \\\\n   - **Nivel:** Todos los niveles  \\\\n   - **Descripci\\\\u00f3n:** Este art\\\\u00edculo proporciona una excelente visi\\\\u00f3n general sobre las lecciones cruciales que todo cient\\\\u00edfico de datos debe conocer sobre machine learning. Es accesible para principiantes pero lo suficientemente profundo para aportar valor a aquellos con m\\\\u00e1s experiencia. Es recomendable para quienes deseen obtener insights sobre las mejores pr\\\\u00e1cticas y desaf\\\\u00edos en el \\\\u00e1mbito.\\\\n\\\\nEstos recursos te ofrecer\\\\u00e1n una base s\\\\u00f3lida y una comprensi\\\\u00f3n profunda de machine learning dentro del contexto de la ciencia de datos, adaptados a distintos niveles de conocimiento y preparaci\\\\u00f3n.\"',\n",
       "  'created_at': datetime.datetime(2025, 3, 11, 10, 38, 57)},\n",
       " {'ID_Recom': 12,\n",
       "  'ID_User': 5,\n",
       "  'Recomendaciones': '\"Aqu\\\\u00ed tienes una lista de 5 recursos de aprendizaje sobre \\'Random Forest regressor\\' en Data Science, incluyendo libros, cursos online y art\\\\u00edculos. Estos recursos han sido seleccionados por su confiabilidad y reputaci\\\\u00f3n en la comunidad acad\\\\u00e9mica y profesional. \\\\n\\\\n1. **Libro: \\\\\"Hands-On Machine Learning with Scikit-Learn, Keras, and TensorFlow\\\\\" por Aur\\\\u00e9lien G\\\\u00e9ron**  \\\\n   - **Nivel:** Intermedio  \\\\n   - **Descripci\\\\u00f3n:** Este libro es altamente recomendado para entender los algoritmos de aprendizaje autom\\\\u00e1tico, incluido el Random Forest regressor. Proporciona ejemplos pr\\\\u00e1cticos y explicaciones claras utilizando la biblioteca Scikit-Learn, que es esencial para implementar Random Forest. Ideal para quienes ya tienen conocimientos b\\\\u00e1sicos en programaci\\\\u00f3n y quieren expandir su competencia en Machine Learning.\\\\n\\\\n2. **Curso Online: \\\\\"Machine Learning\\\\\" de Andrew Ng en Coursera**  \\\\n   - **Nivel:** B\\\\u00e1sico a Intermedio  \\\\n   - **Descripci\\\\u00f3n:** Este curso ic\\\\u00f3nico cubre una amplia gama de algoritmos de aprendizaje autom\\\\u00e1tico, incluido Random Forest. Andrew Ng explica conceptos fundamentales y los aplica en ejemplos pr\\\\u00e1cticos. Es un gran recurso para cualquiera que quiera comenzar su viaje en Machine Learning y obtener una comprensi\\\\u00f3n s\\\\u00f3lida antes de especializarse en temas m\\\\u00e1s avanzados.\\\\n\\\\n3. **Art\\\\u00edculo: \\\\\"A Gentle Introduction to Random Forests\\\\\" en Machine Learning Mastery**  \\\\n   - **Nivel:** B\\\\u00e1sico  \\\\n   - **Descripci\\\\u00f3n:** Este art\\\\u00edculo ofrece una introducci\\\\u00f3n accesible al algoritmo Random Forest. El autor, Jason Brownlee, desglosa conceptos de manera amigable y proporciona ejemplos en Python. Es \\\\u00fatil para estudiantes que reci\\\\u00e9n empiezan a familiarizarse con algoritmos de Machine Learning y desean comprender c\\\\u00f3mo funciona Random Forest sin complicaciones matem\\\\u00e1ticas.\\\\n\\\\n4. **Curso Online: \\\\\"Applied Data Science with Python Specialization\\\\\" en Coursera**  \\\\n   - **Nivel:** Intermedio  \\\\n   - **Descripci\\\\u00f3n:** Esta especializaci\\\\u00f3n ofrece un enfoque pr\\\\u00e1ctico en temas de ciencia de datos, con un m\\\\u00f3dulo espec\\\\u00edfico que incluye Random Forest. Los estudiantes trabajan en proyectos reales, lo que les permite aplicar los conceptos aprendidos sobre regresi\\\\u00f3n y clasificaci\\\\u00f3n con Random Forest, y consolidar su aprendizaje mediante la pr\\\\u00e1ctica.\\\\n\\\\n5. **Libro: \\\\\"Pattern Recognition and Machine Learning\\\\\" por Christopher M. Bishop**  \\\\n   - **Nivel:** Avanzado  \\\\n   - **Descripci\\\\u00f3n:** Este es un recurso avanzado para quienes deseen profundizar en la teor\\\\u00eda detr\\\\u00e1s del aprendizaje autom\\\\u00e1tico. Aunque no se centra \\\\u00fanicamente en Random Forest, cubre muchos conceptos te\\\\u00f3ricos esenciales que contextualizan su funcionamiento en el campo m\\\\u00e1s amplio del reconocimiento de patrones y el aprendizaje autom\\\\u00e1tico, ideal para estudiantes y profesionales que buscan un entendimiento profundo de los mecanismos algor\\\\u00edtmicos. \\\\n\\\\nEstos recursos te proporcionar\\\\u00e1n una base s\\\\u00f3lida y te ayudar\\\\u00e1n a avanzar en tus capacidades en ciencia de datos y su aplicaci\\\\u00f3n en Random Forest regressor.\"',\n",
       "  'created_at': datetime.datetime(2025, 3, 11, 10, 42, 49)},\n",
       " {'ID_Recom': 13,\n",
       "  'ID_User': 5,\n",
       "  'Recomendaciones': '\"Aqu\\\\u00ed tienes una lista de 5 recursos de aprendizaje sobre OpenSearch en Data Science, que incluyen libros, cursos online y art\\\\u00edculos, todos de fuentes confiables. Cada recurso est\\\\u00e1 acompa\\\\u00f1ado de una breve explicaci\\\\u00f3n sobre su utilidad y el nivel recomendado.\\\\n\\\\n1. **Libro: \\\\\"Elasticsearch: The Definitive Guide\\\\\" por Clinton Gormley y Zachary Tong**  \\\\n   - **Utilidad:** Aunque se enfoca en Elasticsearch, este libro proporciona una comprensi\\\\u00f3n profunda de conceptos que son aplicables en OpenSearch, ya que OpenSearch es un fork de Elasticsearch. Te ense\\\\u00f1ar\\\\u00e1 sobre la arquitectura y c\\\\u00f3mo implementar soluciones de b\\\\u00fasqueda que son relevantes para proyectos de Data Science.  \\\\n   - **Nivel:** Intermedio.\\\\n\\\\n2. **Curso: \\\\\"Introduction to OpenSearch\\\\\" en Coursera**  \\\\n   - **Utilidad:** Este curso presentado por Amazon Web Services (AWS) ofrece una introducci\\\\u00f3n completa a OpenSearch. Cubre su instalaci\\\\u00f3n, caracter\\\\u00edsticas principales y c\\\\u00f3mo utilizar OpenSearch para an\\\\u00e1lisis de datos. Es especialmente \\\\u00fatil para quienes buscan entender c\\\\u00f3mo se aplica OpenSearch en contextos de Data Science.  \\\\n   - **Nivel:** B\\\\u00e1sico.\\\\n\\\\n3. **Art\\\\u00edculo: \\\\\"Getting Started with OpenSearch for Data Analysis\\\\\"**  \\\\n   - **Utilidad:** Este art\\\\u00edculo ofrece una gu\\\\u00eda pr\\\\u00e1ctica para comenzar a utilizar OpenSearch en an\\\\u00e1lisis de datos. Explica conceptos b\\\\u00e1sicos, c\\\\u00f3mo realizar consultas y visualizaciones, lo que lo convierte en una excelente opci\\\\u00f3n para los que empiezan en el \\\\u00e1rea y quieren aplicar OpenSearch en sus proyectos.  \\\\n   - **Nivel:** B\\\\u00e1sico.\\\\n\\\\n4. **Curso: \\\\\"Data Analysis with OpenSearch\\\\\" en edX**  \\\\n   - **Utilidad:** Este curso abarca en profundidad c\\\\u00f3mo realizar an\\\\u00e1lisis de datos utilizando OpenSearch. Incluye estudios de casos y ejercicios pr\\\\u00e1cticos dise\\\\u00f1ados para poner en pr\\\\u00e1ctica conceptos. Perfecto para aquellos que buscan integrarlo en su flujo de trabajo de Data Science.  \\\\n   - **Nivel:** Intermedio a Avanzado.\\\\n\\\\n5. **Libro: \\\\\"OpenSearch: A Beginner\\'s Guide to Open-Source Search and Analytics\\\\\" por S. R. Rao**  \\\\n   - **Utilidad:** Este libro se centra en el uso de OpenSearch desde un enfoque pr\\\\u00e1ctico, cubriendo desde los fundamentos hasta las aplicaciones m\\\\u00e1s avanzadas. Es \\\\u00fatil para construir una base s\\\\u00f3lida que permita a los lectores integrar OpenSearch en sus an\\\\u00e1lisis de Data Science.  \\\\n   - **Nivel:** B\\\\u00e1sico a Intermedio.\\\\n\\\\nEstos recursos te proporcionar\\\\u00e1n una base s\\\\u00f3lida en OpenSearch dentro del contexto de Data Science, permiti\\\\u00e9ndote avanzar desde los conceptos b\\\\u00e1sicos hasta aplicaciones m\\\\u00e1s complejas en tus proyectos.\"',\n",
       "  'created_at': datetime.datetime(2025, 3, 11, 10, 43, 25)},\n",
       " {'ID_Recom': 14,\n",
       "  'ID_User': 5,\n",
       "  'Recomendaciones': '\"Aqu\\\\u00ed tienes una lista de 5 recursos altamente recomendados sobre \\'Machine Learning\\' en Data Science, que abarca libros, cursos en l\\\\u00ednea y art\\\\u00edculos, todos de fuentes confiables y estructurados por niveles de complejidad:\\\\n\\\\n1. **Libro: \\\\\"Pattern Recognition and Machine Learning\\\\\" por Christopher M. Bishop**  \\\\n   - **Nivel:** Avanzado  \\\\n   - **Descripci\\\\u00f3n:** Este libro es un cl\\\\u00e1sico en el campo del machine learning, ofreciendo una profunda comprensi\\\\u00f3n de t\\\\u00e9cnicas y m\\\\u00e9todos estad\\\\u00edsticos aplicados a la capacitaci\\\\u00f3n de modelos. Es ideal para estudiantes que ya poseen una base s\\\\u00f3lida en matem\\\\u00e1ticas y buscan entender los fundamentos te\\\\u00f3ricos detr\\\\u00e1s de cada algoritmo. Con varios ejemplos y ejercicios, permite a los lectores aplicar lo aprendido de manera pr\\\\u00e1ctica.\\\\n\\\\n2. **Curso en l\\\\u00ednea: \\\\\"Machine Learning\\\\\" en Coursera por Andrew Ng**  \\\\n   - **Nivel:** B\\\\u00e1sico a Intermedio  \\\\n   - **Descripci\\\\u00f3n:** Este es uno de los cursos m\\\\u00e1s populares y reconocidos en machine learning. Ofrecido por Andrew Ng, cofundador de Coursera, este curso proporciona un enfoque pr\\\\u00e1ctico para implementar algoritmos de aprendizaje autom\\\\u00e1tico. Se cubren temas desde la regresi\\\\u00f3n lineal hasta redes neuronales. El curso es accesible para principiantes, pero tambi\\\\u00e9n ofrece material avanzado conforme se avanza.\\\\n\\\\n3. **Libro: \\\\\"Hands-On Machine Learning with Scikit-Learn, Keras, and TensorFlow\\\\\" por Aur\\\\u00e9lien G\\\\u00e9ron**  \\\\n   - **Nivel:** Intermedio  \\\\n   - **Descripci\\\\u00f3n:** Este recurso es especialmente valioso para quienes prefieren un enfoque pr\\\\u00e1ctico. A trav\\\\u00e9s de proyectos y ejemplos, los estudiantes aprenden a implementar modelos de machine learning utilizando bibliotecas ampliamente utilizadas en Python. Es excelente para aquellos que ya tienen algo de experiencia en programaci\\\\u00f3n y quieren construir aplicaciones reales.\\\\n\\\\n4. **Curso en l\\\\u00ednea: \\\\\"Data Science MicroMasters\\\\\" en edX por UC San Diego**  \\\\n   - **Nivel:** Intermedio  \\\\n   - **Descripci\\\\u00f3n:** Este programa de MicroMasters ofrece una serie de cursos que abarcan temas de machine learning y sus aplicaciones en la ciencia de datos. Es un recurso integral que proporciona tanto teor\\\\u00eda como aplicaci\\\\u00f3n pr\\\\u00e1ctica y culmina con un proyecto real, lo que permite a los estudiantes fortalecer su cartera de habilidades aplicadas.\\\\n\\\\n5. **Art\\\\u00edculo: \\\\\"A Survey of Machine Learning\\\\\" en el Journal of Machine Learning Research**  \\\\n   - **Nivel:** Avanzado  \\\\n   - **Descripci\\\\u00f3n:** Este art\\\\u00edculo proporciona una visi\\\\u00f3n completa del estado actual de la investigaci\\\\u00f3n en machine learning. Cubriendo desde algoritmos hasta aplicaciones, es ideal para estudiantes avanzados que deseen investigar o trabajar en proyectos de investigaci\\\\u00f3n. Ayuda a establecer una comprensi\\\\u00f3n profunda de las tendencias y desaf\\\\u00edos en el campo.\\\\n\\\\nEstos recursos son cuidadosamente seleccionados para abarcar diferentes aspectos y niveles de conocimiento en machine learning, garantizando un aprendizaje estructurado y efectivo en Data Science.\"',\n",
       "  'created_at': datetime.datetime(2025, 3, 11, 10, 48, 28)},\n",
       " {'ID_Recom': 15,\n",
       "  'ID_User': 5,\n",
       "  'Recomendaciones': '\"Aqu\\\\u00ed tienes una lista de 5 recursos de aprendizaje sobre \\'Machine Learning\\' en Data Science, que incluyen libros, cursos en l\\\\u00ednea y art\\\\u00edculos, todos provenientes de fuentes confiables. Se especifica el nivel de dificultad y la utilidad de cada recurso.\\\\n\\\\n1. **Libro: \\\\\"Pattern Recognition and Machine Learning\\\\\" por Christopher Bishop**  \\\\n   - **Nivel**: Avanzado  \\\\n   - **Descripci\\\\u00f3n**: Este libro es considerado un cl\\\\u00e1sico en el campo del Machine Learning. Proporciona una base te\\\\u00f3rica s\\\\u00f3lida con un enfoque en m\\\\u00e9todos probabil\\\\u00edsticos. Es \\\\u00fatil para estudiantes que ya tienen conocimientos previos en estad\\\\u00edstica y probabilidad, y desean profundizar en modelos complejos de aprendizaje autom\\\\u00e1tico.\\\\n\\\\n2. **Curso en l\\\\u00ednea: \\\\\"Machine Learning\\\\\" de Andrew Ng (Coursera)**  \\\\n   - **Nivel**: B\\\\u00e1sico a Intermedio  \\\\n   - **Descripci\\\\u00f3n**: Este curso es uno de los m\\\\u00e1s populares y es impartido por Andrew Ng, uno de los cofundadores de Coursera. Cubre los conceptos fundamentales del Machine Learning, con aplicaciones y ejemplos pr\\\\u00e1cticos. Es ideal para principiantes y proporciona una comprensi\\\\u00f3n integral de los algoritmos de aprendizaje supervisado y no supervisado.\\\\n\\\\n3. **Libro: \\\\\"Hands-On Machine Learning with Scikit-Learn, Keras, and TensorFlow\\\\\" por Aur\\\\u00e9lien G\\\\u00e9ron**  \\\\n   - **Nivel**: Intermedio  \\\\n   - **Descripci\\\\u00f3n**: Este libro es pr\\\\u00e1ctico y est\\\\u00e1 orientado a la implementaci\\\\u00f3n de proyectos reales utilizando las bibliotecas m\\\\u00e1s populares de Python. Es excelente para estudiantes que tienen conocimientos b\\\\u00e1sicos de programaci\\\\u00f3n y desean aplicarlos a casos de uso reales de Machine Learning.\\\\n\\\\n4. **Art\\\\u00edculo: \\\\\"A Few Useful Things to Know about Machine Learning\\\\\" por Pedro Domingos**  \\\\n   - **Nivel**: Intermedio  \\\\n   - **Descripci\\\\u00f3n**: Este art\\\\u00edculo proporciona una perspectiva clara sobre los principios fundamentales y los desaf\\\\u00edos del Machine Learning. Es un excelente recurso para aquellos que ya tienen experiencia en el campo y quieren reflexionar sobre los \\\\\"mitos\\\\\" y \\\\\"realidades\\\\\" del aprendizaje autom\\\\u00e1tico.\\\\n\\\\n5. **Curso en l\\\\u00ednea: \\\\\"Introduction to Machine Learning\\\\\" (edX, Universidad de Washington)**  \\\\n   - **Nivel**: B\\\\u00e1sico  \\\\n   - **Descripci\\\\u00f3n**: Este curso es una excelente introducci\\\\u00f3n al Machine Learning, cubriendo desde los conceptos b\\\\u00e1sicos hasta las aplicaciones pr\\\\u00e1cticas. Los estudiantes aprender\\\\u00e1n sobre algoritmos de aprendizaje, evaluaci\\\\u00f3n de modelos y t\\\\u00e9cnicas de visualizaci\\\\u00f3n. Es muy accesible para quienes inician en el campo y proporciona una base s\\\\u00f3lida para estudios m\\\\u00e1s avanzados.\\\\n\\\\nEstos recursos est\\\\u00e1n seleccionados para abarcar desde los fundamentos hasta t\\\\u00f3picos m\\\\u00e1s avanzados y pr\\\\u00e1cticos, adapt\\\\u00e1ndose a diferentes niveles de conocimiento previo y necesidades educativas.\"',\n",
       "  'created_at': datetime.datetime(2025, 3, 11, 11, 16, 28)},\n",
       " {'ID_Recom': 16,\n",
       "  'ID_User': 2,\n",
       "  'Recomendaciones': '\"Aqu\\\\u00ed tienes una lista de 5 recursos de aprendizaje sobre \\'Random Forest regressor\\' en Data Science, divididos por tipo y nivel de dificultad:\\\\n\\\\n1. **Libro: \\\\\"Hands-On Machine Learning with Scikit-Learn, Keras, and TensorFlow\\\\\" de Aur\\\\u00e9lien G\\\\u00e9ron**  \\\\n   - **Nivel:** Intermedio  \\\\n   - **Descripci\\\\u00f3n:** Este libro proporciona una introducci\\\\u00f3n pr\\\\u00e1ctica al aprendizaje autom\\\\u00e1tico utilizando Python y sus bibliotecas m\\\\u00e1s populares. Incluye un cap\\\\u00edtulo dedicado a algoritmos de ensamblaje, donde se explica el funcionamiento del Random Forest. Es \\\\u00fatil para aquellos que ya tienen conocimientos b\\\\u00e1sicos de Python y desean profundizar en la pr\\\\u00e1ctica del aprendizaje autom\\\\u00e1tico con ejemplos claros y ejercicios.\\\\n\\\\n2. **Curso Online: \\\\\"Applied Data Science with Python Specialization\\\\\" en Coursera (Universidad de Michigan)**  \\\\n   - **Nivel:** Intermedio  \\\\n   - **Descripci\\\\u00f3n:** Este curso especializado en Coursera abarca diversas t\\\\u00e9cnicas de an\\\\u00e1lisis de datos, incluyendo el uso del Random Forest. Presenta proyectos pr\\\\u00e1cticos que refuerzan los conceptos aprendidos. Es ideal para estudiantes que desean aplicar t\\\\u00e9cnicas de ciencia de datos en problemas reales, ofreciendo una base s\\\\u00f3lida en la implementaci\\\\u00f3n de modelos de regresi\\\\u00f3n y clasificaci\\\\u00f3n.\\\\n\\\\n3. **Art\\\\u00edculo: \\\\\"Random Forests\\\\\" de Leo Breiman (2001)**  \\\\n   - **Nivel:** Avanzado  \\\\n   - **Descripci\\\\u00f3n:** Este es el art\\\\u00edculo original en el que se introduce el algoritmo de Random Forest. Aunque es un texto acad\\\\u00e9mico y puede ser denso, es fundamental para quienes buscan comprender a fondo el marco te\\\\u00f3rico y matem\\\\u00e1tico detr\\\\u00e1s del algoritmo. Se recomienda para estudiantes avanzados que desean profundizar en las bases del aprendizaje autom\\\\u00e1tico.\\\\n\\\\n4. **Libro: \\\\\"The Elements of Statistical Learning\\\\\" de Trevor Hastie, Robert Tibshirani y Jerome Friedman**  \\\\n   - **Nivel:** Avanzado  \\\\n   - **Descripci\\\\u00f3n:** Considerado un texto de referencia en el \\\\u00e1rea de aprendizaje estad\\\\u00edstico, este libro incluye una cobertura exhaustiva de Random Forest y otros m\\\\u00e9todos de aprendizaje, con un enfoque en su justificaci\\\\u00f3n te\\\\u00f3rica y aplicaciones pr\\\\u00e1cticas. Es ideal para estudiantes y profesionales que buscan una comprensi\\\\u00f3n m\\\\u00e1s profunda y rigurosa de los algoritmos de aprendizaje autom\\\\u00e1tico.\\\\n\\\\n5. **Curso Online: \\\\\"Machine Learning\\\\\" en edX (Universidad de Harvard)**  \\\\n   - **Nivel:** B\\\\u00e1sico a Intermedio  \\\\n   - **Descripci\\\\u00f3n:** Este curso de EdX ofrece una introducci\\\\u00f3n s\\\\u00f3lida al aprendizaje autom\\\\u00e1tico. Aunque no se centra exclusivamente en Random Forest, cubre su uso y comparativa con otros algoritmos. Es un recurso accesible para estudiantes que son nuevos en el campo, proporcionando una base y la oportunidad de explorar m\\\\u00e1s sobre t\\\\u00e9cnicas avanzadas en el aprendizaje autom\\\\u00e1tico.\\\\n\\\\nEstos recursos ofrecen una variedad de enfoques y niveles de profundidad sobre el Random Forest regressor y su aplicaci\\\\u00f3n en Data Science, permitiendo a los estudiantes de diferentes niveles encontrar materiales adecuados a su aprendizaje y necesidades acad\\\\u00e9micas.\"',\n",
       "  'created_at': datetime.datetime(2025, 3, 11, 12, 56, 1)},\n",
       " {'ID_Recom': 17,\n",
       "  'ID_User': 5,\n",
       "  'Recomendaciones': '\"Aqu\\\\u00ed tienes una lista de 5 recursos de aprendizaje confiables sobre \\'Machine Learning\\' en el \\\\u00e1mbito de Data Science, que incluyen libros, cursos en l\\\\u00ednea y art\\\\u00edculos. Cada recurso se presenta con su nivel y una breve explicaci\\\\u00f3n de su utilidad.\\\\n\\\\n1. **Libro: \\\\\"Pattern Recognition and Machine Learning\\\\\" de Christopher M. Bishop**\\\\n   - **Nivel:** Avanzado\\\\n   - **Utilidad:** Este libro es un referente en el \\\\u00e1mbito de la estad\\\\u00edstica y el aprendizaje autom\\\\u00e1tico. Proporciona una profunda comprensi\\\\u00f3n te\\\\u00f3rica de los algoritmos de machine learning, as\\\\u00ed como enfoques matem\\\\u00e1ticos que los sustentan. Es ideal para quienes desean profundizar en los aspectos estad\\\\u00edsticos y probabil\\\\u00edsticos detr\\\\u00e1s del machine learning.\\\\n\\\\n2. **Curso en l\\\\u00ednea: \\\\\"Machine Learning\\\\\" en Coursera, impartido por Andrew Ng**\\\\n   - **Nivel:** B\\\\u00e1sico a Intermedio\\\\n   - **Utilidad:** Este curso es uno de los m\\\\u00e1s populares y reconocidos a nivel mundial. Ofrecido por la Universidad de Stanford, cubre los fundamentos del machine learning, incluyendo algoritmos y sus aplicaciones pr\\\\u00e1cticas. Es una excelente opci\\\\u00f3n para principiantes, ya que explica conceptos complejos de manera accesible.\\\\n\\\\n3. **Libro: \\\\\"Hands-On Machine Learning with Scikit-Learn, Keras, and TensorFlow\\\\\" de Aur\\\\u00e9lien G\\\\u00e9ron**\\\\n   - **Nivel:** Intermedio\\\\n   - **Utilidad:** Este libro es una gu\\\\u00eda pr\\\\u00e1ctica para la implementaci\\\\u00f3n de machine learning usando Python y sus bibliotecas m\\\\u00e1s populares. A trav\\\\u00e9s de ejemplos pr\\\\u00e1cticos, ense\\\\u00f1a a desarrollar modelos desde cero hasta su implementaci\\\\u00f3n. Es ideal para quienes ya tienen conocimientos b\\\\u00e1sicos y quieren aplicar el machine learning en proyectos reales.\\\\n\\\\n4. **Curso en l\\\\u00ednea: \\\\\"Data Science MicroMasters\\\\\" en edX, ofrecido por la Universidad de California en San Diego**\\\\n   - **Nivel:** Intermedio a Avanzado\\\\n   - **Utilidad:** Este programa de MicroMasters abarca varios aspectos de Data Science, con un fuerte enfoque en machine learning. Combina teor\\\\u00eda y pr\\\\u00e1ctica, permite a los estudiantes construir un portafolio de proyectos y obtener un certificado que es reconocido en la industria. Es especialmente \\\\u00fatil para aquellos que buscan un aprendizaje estructurado y profundizar en su conocimiento.\\\\n\\\\n5. **Art\\\\u00edculo: \\\\\"A Few Useful Things to Know About Machine Learning\\\\\" de Pedro Domingos**\\\\n   - **Nivel:** Todos los niveles\\\\n   - **Utilidad:** Este art\\\\u00edculo, publicado en la revista Communications of the ACM, ofrece una visi\\\\u00f3n general sobre los aspectos que deben considerarse en machine learning. Es accesible para principiantes, pero tambi\\\\u00e9n proporciona informaci\\\\u00f3n valiosa para los m\\\\u00e1s experimentados. Ayuda a entender mejor los desaf\\\\u00edos y oportunidades en el campo del aprendizaje autom\\\\u00e1tico.\\\\n\\\\nEstos recursos proporcionan una base s\\\\u00f3lida y un camino claro para mejorar tus habilidades en machine learning dentro de Data Science, adapt\\\\u00e1ndose a diferentes niveles de conocimiento y \\\\u00e1reas de inter\\\\u00e9s.\"',\n",
       "  'created_at': datetime.datetime(2025, 3, 11, 14, 39, 24)},\n",
       " {'ID_Recom': 18,\n",
       "  'ID_User': 3,\n",
       "  'Recomendaciones': '\"Aqu\\\\u00ed tienes una lista de 5 recursos de aprendizaje sobre \\'Desaf\\\\u00edos Kaggle\\' en Data Science, junto con sus descripciones, niveles de dificultad y razones por las que son \\\\u00fatiles:\\\\n\\\\n1. **Libro: \\\\\"Hands-On Machine Learning with Scikit-Learn, Keras, and TensorFlow\\\\\" por Aur\\\\u00e9lien G\\\\u00e9ron**  \\\\n   - **Nivel**: Intermedio  \\\\n   - **Descripci\\\\u00f3n**: Este libro abarca conceptos fundamentales de Machine Learning y tiene ejemplos pr\\\\u00e1cticos que pueden ser aplicados a los desaf\\\\u00edos de Kaggle. Incluye estrategias para el modelado que son muy \\\\u00fatiles al enfrentar competiciones. Adem\\\\u00e1s, ense\\\\u00f1a a trabajar con Scikit-Learn y TensorFlow, que son herramientas ampliamente utilizadas en Kaggle.  \\\\n   - **Utilidad**: Proporciona un enfoque pr\\\\u00e1ctico que permite a los estudiantes aplicar lo aprendido directamente en competencias.\\\\n\\\\n2. **Curso Online: \\\\\"Data Science Specialization\\\\\" de Coursera (Universidad Johns Hopkins)**  \\\\n   - **Nivel**: B\\\\u00e1sico a Intermedio  \\\\n   - **Descripci\\\\u00f3n**: Esta especializaci\\\\u00f3n consta de m\\\\u00faltiples cursos que cubren R, an\\\\u00e1lisis de datos y reproducibilidad. Es adecuada para los que empiezan en el campo de Data Science y desean entender los fundamentos.  \\\\n   - **Utilidad**: Los estudiantes ganan habilidades pr\\\\u00e1cticas y te\\\\u00f3ricas que son esenciales para abordar desaf\\\\u00edos de datos en Kaggle. Adem\\\\u00e1s, se familiarizan con metodolog\\\\u00edas que pueden aplicar directamente.\\\\n\\\\n3. **Art\\\\u00edculo: \\\\\"How to Win a Data Science Competition: Learn from Top Kagglers\\\\\" de Kaggle**  \\\\n   - **Nivel**: Intermedio  \\\\n   - **Descripci\\\\u00f3n**: Este art\\\\u00edculo, disponible en el blog de Kaggle, ofrece consejos y estrategias de algunos de los mejores competidores de la plataforma. Aborda t\\\\u00e9cnicas y enfoques ganadores que pueden ser implementados en competiciones.  \\\\n   - **Utilidad**: Es un recurso pr\\\\u00e1ctico que permite a los estudiantes aprender de la experiencia de otros y adaptar sus m\\\\u00e9todos para mejorar sus resultados en los desaf\\\\u00edos.\\\\n\\\\n4. **Curso Online: \\\\\"Applied Data Science with Python\\\\\" de edX (Universidad de Michigan)**  \\\\n   - **Nivel**: Intermedio  \\\\n   - **Descripci\\\\u00f3n**: Un curso que profundiza en el uso de Python para la ciencia de datos, incluyendo visualizaci\\\\u00f3n, an\\\\u00e1lisis de datos y machine learning. Aprender\\\\u00e1n a utilizar bibliotecas populares como pandas, matplotlib y seaborn.  \\\\n   - **Utilidad**: Los participantes desarrollan habilidades pr\\\\u00e1cticas utilizando Python, lo cual es crucial para participar en los desaf\\\\u00edos de Kaggle, donde Python es un lenguaje predominante.\\\\n\\\\n5. **Competencia: \\\\\"Titanic: Machine Learning from Disaster\\\\\" de Kaggle**  \\\\n   - **Nivel**: B\\\\u00e1sico  \\\\n   - **Descripci\\\\u00f3n**: Este es uno de los desaf\\\\u00edos m\\\\u00e1s populares en Kaggle, perfecto para novatos. Permite a los estudiantes practicar la limpieza de datos, exploraci\\\\u00f3n y modelado b\\\\u00e1sico al predecir qui\\\\u00e9n sobrevivi\\\\u00f3 al Titanic.  \\\\n   - **Utilidad**: Es una excelente manera de iniciarse en el mundo de Kaggle. Proporciona una comprensi\\\\u00f3n pr\\\\u00e1ctica del proceso completo de competiciones y permite a los aprendices experimentar sin una gran barrera de entrada.\\\\n\\\\nEstos recursos ofrecen un rango de materiales dise\\\\u00f1ados para diferentes niveles de habilidad, asegurando que los estudiantes puedan encontrar y aplicar la informaci\\\\u00f3n adecuada para superar desaf\\\\u00edos en Kaggle y mejorar su experiencia en Data Science.\"',\n",
       "  'created_at': datetime.datetime(2025, 3, 11, 16, 11, 8)},\n",
       " {'ID_Recom': 19,\n",
       "  'ID_User': 3,\n",
       "  'Recomendaciones': '\"Aqu\\\\u00ed tienes una lista de 5 recursos de aprendizaje sobre \\\\\"Desaf\\\\u00edos sobre ML en Kaggle\\\\\" en Data Science, que abarcan libros, cursos online y art\\\\u00edculos de fuentes confiables, estructurados con su nivel de dificultad y utilidad:\\\\n\\\\n1. **Libro: \\\\\"Hands-On Machine Learning with Scikit-Learn, Keras, and TensorFlow\\\\\" por Aur\\\\u00e9lien G\\\\u00e9ron**  \\\\n   - **Nivel:** Intermedio  \\\\n   - **Utilidad:** Este libro es altamente recomendable para aquellos que ya tienen conocimientos b\\\\u00e1sicos de machine learning y desean profundizar en su aplicaci\\\\u00f3n pr\\\\u00e1ctica, incluyendo ejemplos directos de competiciones de Kaggle. Proporciona un enfoque pr\\\\u00e1ctico mediante proyectos, lo que es perfecto para entender c\\\\u00f3mo aplicar conceptos de machine learning en entornos del mundo real como Kaggle.\\\\n\\\\n2. **Curso Online: \\\\\"Machine Learning\\\\\" en Coursera, por Andrew Ng**  \\\\n   - **Nivel:** B\\\\u00e1sico a Intermedio  \\\\n   - **Utilidad:** Este curso es un cl\\\\u00e1sico en el aprendizaje de machine learning. Ofrece una excelente base sobre los principios fundamentales de ML que ser\\\\u00e1n cruciales para participar en competiciones de Kaggle. Al finalizar, tendr\\\\u00e1s un entendimiento s\\\\u00f3lido que te permitir\\\\u00e1 abordar desaf\\\\u00edos en Kaggle con mayor confianza.\\\\n\\\\n3. **Libro: \\\\\"Kaggle: The Complete Guide\\\\\" por Ankur Patel**  \\\\n   - **Nivel:** Intermedio a Avanzado  \\\\n   - **Utilidad:** Este libro est\\\\u00e1 dise\\\\u00f1ado espec\\\\u00edficamente para los competidores de Kaggle. Cubre estrategias avanzadas, selecci\\\\u00f3n de caracter\\\\u00edsticas y t\\\\u00e9cnicas de ensamblado, que son esenciales para destacar en las competencias. Es ideal para aquellos que ya tienen experiencia en ML y buscan t\\\\u00e1cticas espec\\\\u00edficas para mejorar su desempe\\\\u00f1o en Kaggle.\\\\n\\\\n4. **Art\\\\u00edculo: \\\\\"Getting Started with Kaggle Competitions\\\\\" en Towards Data Science**  \\\\n   - **Nivel:** B\\\\u00e1sico  \\\\n   - **Utilidad:** Este art\\\\u00edculo proporciona una introducci\\\\u00f3n accesible a las competiciones de Kaggle, ofreciendo consejos pr\\\\u00e1cticos sobre c\\\\u00f3mo comenzar, elegir un problema y en qu\\\\u00e9 centrarte. Es un recurso ideal para quienes est\\\\u00e1n dando sus primeros pasos en la plataforma y desean comprender el formato y los tipos de desaf\\\\u00edos que se presentan.\\\\n\\\\n5. **Curso Online: \\\\\"Data Science MicroMasters\\\\\" en edX (ofrecido por UC San Diego)**  \\\\n   - **Nivel:** Intermedio  \\\\n   - **Utilidad:** Este programa de MicroMasters ofrece una serie completa de cursos que cubren diversos aspectos del data science, incluyendo machine learning aplicado. A trav\\\\u00e9s de proyectos reales y evaluaciones, obtendr\\\\u00e1s habilidades pr\\\\u00e1cticas que son directamente transferibles a desaf\\\\u00edos en Kaggle, preparando al estudiante para abordar competiciones con un enfoque cient\\\\u00edfico.\\\\n\\\\nEsta lista de recursos te proporcionar\\\\u00e1 un conjunto s\\\\u00f3lido de materiales y conocimientos para enfrentar los desaf\\\\u00edos de machine learning en Kaggle, adapt\\\\u00e1ndose a distintos niveles de habilidad y expertise.\"',\n",
       "  'created_at': datetime.datetime(2025, 3, 11, 16, 12, 13)},\n",
       " {'ID_Recom': 20,\n",
       "  'ID_User': 6,\n",
       "  'Recomendaciones': '\"Aqu\\\\u00ed tienes una lista de 5 recursos de aprendizaje sobre \\'Bucles For\\' en Data Science, estructurada por tipo y nivel de dificultad. Cada recurso ha sido seleccionado por su calidad y utilidad:\\\\n\\\\n1. **Libro: \\\\\"Python for Data Analysis\\\\\" de Wes McKinney**  \\\\n   - **Nivel:** Intermedio  \\\\n   - **Descripci\\\\u00f3n:** Este libro es una excelente fuente para entender c\\\\u00f3mo utilizar Python en el an\\\\u00e1lisis de datos. McKinney, el creador de la biblioteca pandas, incluye ejemplos pr\\\\u00e1cticos que involucran el uso de bucles for para manipular y analizar datos de manera eficiente. Es ideal para quienes ya tienen una base en Python y quieren profundizar en su uso en Data Science.\\\\n\\\\n2. **Curso Online: \\\\\"Python Data Science Handbook\\\\\" en Coursera**  \\\\n   - **Nivel:** Intermedio  \\\\n   - **Descripci\\\\u00f3n:** Impartido por Jake VanderPlas, este curso ofrece un enfoque pr\\\\u00e1ctico para aprender Python en el contexto de Data Science. El contenido incluye secciones espec\\\\u00edficas sobre estructuras de control, incluidos los bucles for. Adem\\\\u00e1s, proporciona ejercicios que permiten aplicar el conocimiento en ejercicios pr\\\\u00e1cticos relacionados con visualizaci\\\\u00f3n de datos y manipulaci\\\\u00f3n, perfecto para quienes buscan afianzar conceptos de manera activa.\\\\n\\\\n3. **Art\\\\u00edculo: \\\\\"Control Flow in Python\\\\\" en Real Python**  \\\\n   - **Nivel:** B\\\\u00e1sico  \\\\n   - **Descripci\\\\u00f3n:** Este art\\\\u00edculo es una introducci\\\\u00f3n clara y concisa a las estructuras de control en Python, con un enfoque espec\\\\u00edfico en los bucles for. Es adecuado para principiantes que est\\\\u00e1n comenzando con la programaci\\\\u00f3n en Python. La plataforma Real Python es conocida por su contenido de calidad, alineado con pr\\\\u00e1cticas actuales de programaci\\\\u00f3n.\\\\n\\\\n4. **Curso Online: \\\\\"Data Science MicroMasters\\\\\" en edX (ofrecido por University of California, San Diego)**  \\\\n   - **Nivel:** Avanzado  \\\\n   - **Descripci\\\\u00f3n:** Este programa de MicroMasters aborda una variedad de temas en Data Science, incluyendo m\\\\u00e9todos avanzados de programaci\\\\u00f3n. Dentro de los m\\\\u00f3dulos, se exploran los bucles for dentro de contextos m\\\\u00e1s complejos, como el procesamiento de grandes conjuntos de datos. Este curso es ideal para quienes buscan una comprensi\\\\u00f3n profunda y aplicaci\\\\u00f3n en proyectos reales.\\\\n\\\\n5. **Libro: \\\\\"Hands-On Python for Data Analysis\\\\\" de Chris Albon**  \\\\n   - **Nivel:** Intermedio  \\\\n   - **Descripci\\\\u00f3n:** Este libro proporciona una gu\\\\u00eda pr\\\\u00e1ctica sobre el uso de Python para el an\\\\u00e1lisis de datos en el contexto de la ciencia de datos. Se centra en t\\\\u00e9cnicas de programaci\\\\u00f3n, incluyendo una secci\\\\u00f3n dedicada a los bucles for para el procesamiento de datos, con ejemplos claros y desaf\\\\u00edos que ayudan a los lectores a practicar y afianzar sus habilidades.\\\\n\\\\nEstos recursos, al ser de fuentes confiables y adecuados a distintos niveles, proporcionan una s\\\\u00f3lida base para entender y aplicar \\'Bucles For\\' en el campo de Data Science.\"',\n",
       "  'created_at': datetime.datetime(2025, 3, 11, 17, 12, 17)},\n",
       " {'ID_Recom': 21,\n",
       "  'ID_User': 5,\n",
       "  'Recomendaciones': '\"Aqu\\\\u00ed tienes una lista estructurada de 5 recursos de aprendizaje sobre \\'Machine Learning\\' en Data Science, incluyendo libros, cursos online y art\\\\u00edculos, con una explicaci\\\\u00f3n de su utilidad y el nivel recomendado:\\\\n\\\\n1. **Libro: \\\\\"Pattern Recognition and Machine Learning\\\\\" de Christopher M. Bishop**  \\\\n   - **Descripci\\\\u00f3n**: Este libro es considerado un texto fundamental en el campo del aprendizaje autom\\\\u00e1tico. Proporciona una introducci\\\\u00f3n amplia a la teor\\\\u00eda detr\\\\u00e1s de los m\\\\u00e9todos de aprendizaje, incluyendo t\\\\u00e9cnicas de reconocimiento de patrones.  \\\\n   - **\\\\u00datil porque**: Incluye teor\\\\u00edas estad\\\\u00edsticas y t\\\\u00e9cnicas avanzadas que son clave para entender modelos complejos en machine learning.  \\\\n   - **Nivel**: Avanzado.\\\\n\\\\n2. **Curso Online: \\\\\"Machine Learning\\\\\" en Coursera por Andrew Ng**  \\\\n   - **Descripci\\\\u00f3n**: Este curso es uno de los m\\\\u00e1s populares en la plataforma Coursera y ofrece una visi\\\\u00f3n fundamental sobre machine learning, cubriendo algoritmos fundamentales y su implementaci\\\\u00f3n.  \\\\n   - **\\\\u00datil porque**: Andrew Ng utiliza ejemplos claros y aplicaciones pr\\\\u00e1cticas que facilitan la comprensi\\\\u00f3n del aprendizaje autom\\\\u00e1tico. Al final, los estudiantes pueden aplicar lo aprendido a proyectos reales.  \\\\n   - **Nivel**: B\\\\u00e1sico a intermedio.\\\\n\\\\n3. **Libro: \\\\\"Hands-On Machine Learning with Scikit-Learn, Keras, and TensorFlow\\\\\" de Aur\\\\u00e9lien G\\\\u00e9ron**  \\\\n   - **Descripci\\\\u00f3n**: Este libro es una gu\\\\u00eda pr\\\\u00e1ctica excelente, que utiliza Python y bibliotecas como Scikit-Learn y TensorFlow para crear modelos.  \\\\n   - **\\\\u00datil porque**: Los proyectos pr\\\\u00e1cticos y ejemplos de c\\\\u00f3digo permiten que los lectores adquieran experiencia tangible en machine learning.  \\\\n   - **Nivel**: Intermedio.\\\\n\\\\n4. **Curso Online: \\\\\"Data Science and Machine Learning Bootcamp with R\\\\\" en Udemy**  \\\\n   - **Descripci\\\\u00f3n**: Este curso intensivo explora tanto data science como machine learning utilizando el lenguaje de programaci\\\\u00f3n R.  \\\\n   - **\\\\u00datil porque**: Cubre desde los conceptos b\\\\u00e1sicos hasta t\\\\u00e9cnicas m\\\\u00e1s avanzadas, lo que es ideal para desarrolladores que desean mejorar sus habilidades en R.  \\\\n   - **Nivel**: Intermedio a avanzado.\\\\n\\\\n5. **Art\\\\u00edculo: \\\\\"A Few Useful Things to Know About Machine Learning\\\\\" de Pedro Domingos**  \\\\n   - **Descripci\\\\u00f3n**: Este art\\\\u00edculo es un cl\\\\u00e1sico en el campo que aborda conceptos importantes y desaf\\\\u00edos del aprendizaje autom\\\\u00e1tico.  \\\\n   - **\\\\u00datil porque**: Brinda una perspectiva general y consejos pr\\\\u00e1cticos que son valiosos para quienes desean comprender los aspectos te\\\\u00f3ricos y pr\\\\u00e1cticos del machine learning.  \\\\n   - **Nivel**: B\\\\u00e1sico a intermedio.\\\\n\\\\nEstos recursos te proporcionar\\\\u00e1n una base s\\\\u00f3lida y experiencia pr\\\\u00e1ctica en \\'Machine Learning\\' en Data Science, abarcando desde conceptos b\\\\u00e1sicos hasta t\\\\u00e9cnicas m\\\\u00e1s avanzadas.\"',\n",
       "  'created_at': datetime.datetime(2025, 3, 12, 12, 31, 27)},\n",
       " {'ID_Recom': 22,\n",
       "  'ID_User': 3,\n",
       "  'Recomendaciones': '\"A continuaci\\\\u00f3n, se presentan cinco recursos de aprendizaje sobre \\'machine learning\\' en Data Science, organizados por nivel de dificultad y con una breve descripci\\\\u00f3n de la utilidad de cada uno:\\\\n\\\\n1. **Libro: \\\\\"Pattern Recognition and Machine Learning\\\\\" de Christopher Bishop**\\\\n   - **Nivel**: Avanzado\\\\n   - **Utilidad**: Este libro es una referencia fundamental en el campo del aprendizaje autom\\\\u00e1tico y la estad\\\\u00edstica. Proporciona una profunda comprensi\\\\u00f3n de las teor\\\\u00edas detr\\\\u00e1s de los m\\\\u00e9todos de machine learning, y es perfecto para estudiantes que ya tienen bases en matem\\\\u00e1ticas y estad\\\\u00edsticas. Se cubren temas como redes neuronales, m\\\\u00e1quinas de soporte vectorial y m\\\\u00e9todos Bayesianos, lo que puede ser invaluable para aquellos que buscan una comprensi\\\\u00f3n te\\\\u00f3rica y pr\\\\u00e1ctica del tema.\\\\n\\\\n2. **Curso Online: \\\\\"Machine Learning\\\\\" de Andrew Ng en Coursera**\\\\n   - **Nivel**: B\\\\u00e1sico a Intermedio\\\\n   - **Utilidad**: Este curso es uno de los m\\\\u00e1s populares y reconocidos en el \\\\u00e1mbito del machine learning. Andrew Ng, reconocido en el campo, ense\\\\u00f1a los fundamentos del aprendizaje autom\\\\u00e1tico, incluyendo regresi\\\\u00f3n lineal, algoritmos de clasificaci\\\\u00f3n, y t\\\\u00e9cnicas de optimizaci\\\\u00f3n y aprendizaje no supervisado. Es un recurso ideal para principiantes que deseen establecer una base s\\\\u00f3lida y para aquellos con un poco de experiencia que buscan reforzar sus conocimientos.\\\\n\\\\n3. **Curso Online: \\\\\"MicroMasters en Artificial Intelligence\\\\\" en edX (ofrecido por Columbia University)**\\\\n   - **Nivel**: Intermedio\\\\n   - **Utilidad**: Este programa de MicroMasters ofrece un curr\\\\u00edculo profundo que abarca no solo machine learning, sino tambi\\\\u00e9n temas avanzados de inteligencia artificial. Los cursos incluyen la aplicaci\\\\u00f3n de t\\\\u00e9cnicas de aprendizaje profundo y procesamiento de lenguaje natural, lo que es \\\\u00fatil para estudiantes que desean expandir su conocimiento y aplicarlo a proyectos m\\\\u00e1s complejos en Data Science.\\\\n\\\\n4. **Art\\\\u00edculo: \\\\\"A Comprehensive Guide to Machine Learning\\\\\" en Towards Data Science (publicaci\\\\u00f3n en Medium)**\\\\n   - **Nivel**: B\\\\u00e1sico a Intermedio\\\\n   - **Utilidad**: Este art\\\\u00edculo ofrece una introducci\\\\u00f3n completa al machine learning, ideal para aquellos que buscan entender los conceptos b\\\\u00e1sicos y las aplicaciones de la disciplina. Tambi\\\\u00e9n incluye ejemplos pr\\\\u00e1cticos y enlaces a recursos adicionales, que pueden guiar a los estudiantes en su aprendizaje continuo. Es muy accesible para principiantes y proporciona un buen punto de partida para aquellos que est\\\\u00e1n considerando ingresar al campo de Data Science.\\\\n\\\\n5. **Libro: \\\\\"Deep Learning\\\\\" de Ian Goodfellow, Yoshua Bengio y Aaron Courville**\\\\n   - **Nivel**: Avanzado\\\\n   - **Utilidad**: Este libro es considerado la \\\\\"biblia\\\\\" del aprendizaje profundo. Detalla no solo los fundamentos te\\\\u00f3ricos detr\\\\u00e1s de las t\\\\u00e9cnicas profundas, sino tambi\\\\u00e9n sus aplicaciones pr\\\\u00e1cticas en diversos campos, incluyendo imagen, audio, y texto. Es altamente recomendado para estudiantes que ya tienen un buen conocimiento de machine learning y buscan profundizar en el aprendizaje profundo y sus complejidades.\\\\n\\\\nEstos recursos ofrecen un espectro variado de conocimiento en machine learning, desde lo b\\\\u00e1sico hasta lo avanzado, y son ideales para apoyar el crecimiento acad\\\\u00e9mico y profesional en Data Science.\"',\n",
       "  'created_at': datetime.datetime(2025, 3, 12, 16, 42, 47)}]"
      ]
     },
     "execution_count": 7,
     "metadata": {},
     "output_type": "execute_result"
    }
   ],
   "source": [
    "cursor.execute('''SELECT * FROM Recomendador''')\n",
    "cursor.fetchall()"
   ]
  },
  {
   "cell_type": "code",
   "execution_count": 84,
   "metadata": {},
   "outputs": [],
   "source": [
    "db.commit()"
   ]
  },
  {
   "cell_type": "code",
   "execution_count": 24,
   "metadata": {},
   "outputs": [],
   "source": [
    "cursor.close()"
   ]
  },
  {
   "cell_type": "code",
   "execution_count": 26,
   "metadata": {},
   "outputs": [],
   "source": [
    "db.close()"
   ]
  }
 ],
 "metadata": {
  "kernelspec": {
   "display_name": "tf_env",
   "language": "python",
   "name": "python3"
  },
  "language_info": {
   "codemirror_mode": {
    "name": "ipython",
    "version": 3
   },
   "file_extension": ".py",
   "mimetype": "text/x-python",
   "name": "python",
   "nbconvert_exporter": "python",
   "pygments_lexer": "ipython3",
   "version": "3.12.8"
  }
 },
 "nbformat": 4,
 "nbformat_minor": 2
}
